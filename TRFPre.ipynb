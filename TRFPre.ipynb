{
  "nbformat": 4,
  "nbformat_minor": 0,
  "metadata": {
    "colab": {
      "name": "TRFPre.ipynb",
      "provenance": [],
      "collapsed_sections": [
        "nNjUGRr1xHhv"
      ],
      "authorship_tag": "ABX9TyOEwd85yagKSoUgckgTUVq3",
      "include_colab_link": true
    },
    "kernelspec": {
      "name": "python3",
      "display_name": "Python 3"
    },
    "language_info": {
      "name": "python"
    }
  },
  "cells": [
    {
      "cell_type": "markdown",
      "metadata": {
        "id": "view-in-github",
        "colab_type": "text"
      },
      "source": [
        "<a href=\"https://colab.research.google.com/github/shivaZeymaran/TRFPre-Code-Reviewer-Recommender/blob/main/TRFPre.ipynb\" target=\"_parent\"><img src=\"https://colab.research.google.com/assets/colab-badge.svg\" alt=\"Open In Colab\"/></a>"
      ]
    },
    {
      "cell_type": "markdown",
      "source": [
        "# Crawling Data"
      ],
      "metadata": {
        "id": "nNjUGRr1xHhv"
      }
    },
    {
      "cell_type": "code",
      "source": [
        "!pip3 install PyGithub requests"
      ],
      "metadata": {
        "colab": {
          "base_uri": "https://localhost:8080/"
        },
        "id": "faqVWKmspdmW",
        "outputId": "0b0f5c4e-7b88-4a67-fad4-017431e311b0"
      },
      "execution_count": null,
      "outputs": [
        {
          "output_type": "stream",
          "name": "stdout",
          "text": [
            "Collecting PyGithub\n",
            "  Downloading PyGithub-1.55-py3-none-any.whl (291 kB)\n",
            "\u001b[?25l\r\u001b[K     |█▏                              | 10 kB 29.0 MB/s eta 0:00:01\r\u001b[K     |██▎                             | 20 kB 31.3 MB/s eta 0:00:01\r\u001b[K     |███▍                            | 30 kB 33.4 MB/s eta 0:00:01\r\u001b[K     |████▌                           | 40 kB 32.3 MB/s eta 0:00:01\r\u001b[K     |█████▋                          | 51 kB 31.1 MB/s eta 0:00:01\r\u001b[K     |██████▊                         | 61 kB 30.4 MB/s eta 0:00:01\r\u001b[K     |███████▉                        | 71 kB 30.1 MB/s eta 0:00:01\r\u001b[K     |█████████                       | 81 kB 30.7 MB/s eta 0:00:01\r\u001b[K     |██████████                      | 92 kB 31.5 MB/s eta 0:00:01\r\u001b[K     |███████████▎                    | 102 kB 33.4 MB/s eta 0:00:01\r\u001b[K     |████████████▍                   | 112 kB 33.4 MB/s eta 0:00:01\r\u001b[K     |█████████████▌                  | 122 kB 33.4 MB/s eta 0:00:01\r\u001b[K     |██████████████▋                 | 133 kB 33.4 MB/s eta 0:00:01\r\u001b[K     |███████████████▊                | 143 kB 33.4 MB/s eta 0:00:01\r\u001b[K     |████████████████▉               | 153 kB 33.4 MB/s eta 0:00:01\r\u001b[K     |██████████████████              | 163 kB 33.4 MB/s eta 0:00:01\r\u001b[K     |███████████████████             | 174 kB 33.4 MB/s eta 0:00:01\r\u001b[K     |████████████████████▏           | 184 kB 33.4 MB/s eta 0:00:01\r\u001b[K     |█████████████████████▍          | 194 kB 33.4 MB/s eta 0:00:01\r\u001b[K     |██████████████████████▌         | 204 kB 33.4 MB/s eta 0:00:01\r\u001b[K     |███████████████████████▋        | 215 kB 33.4 MB/s eta 0:00:01\r\u001b[K     |████████████████████████▊       | 225 kB 33.4 MB/s eta 0:00:01\r\u001b[K     |█████████████████████████▉      | 235 kB 33.4 MB/s eta 0:00:01\r\u001b[K     |███████████████████████████     | 245 kB 33.4 MB/s eta 0:00:01\r\u001b[K     |████████████████████████████    | 256 kB 33.4 MB/s eta 0:00:01\r\u001b[K     |█████████████████████████████▏  | 266 kB 33.4 MB/s eta 0:00:01\r\u001b[K     |██████████████████████████████▎ | 276 kB 33.4 MB/s eta 0:00:01\r\u001b[K     |███████████████████████████████▌| 286 kB 33.4 MB/s eta 0:00:01\r\u001b[K     |████████████████████████████████| 291 kB 33.4 MB/s \n",
            "\u001b[?25hRequirement already satisfied: requests in /usr/local/lib/python3.7/dist-packages (2.23.0)\n",
            "Collecting deprecated\n",
            "  Downloading Deprecated-1.2.13-py2.py3-none-any.whl (9.6 kB)\n",
            "Collecting pyjwt>=2.0\n",
            "  Downloading PyJWT-2.3.0-py3-none-any.whl (16 kB)\n",
            "Collecting pynacl>=1.4.0\n",
            "  Downloading PyNaCl-1.4.0-cp35-abi3-manylinux1_x86_64.whl (961 kB)\n",
            "\u001b[K     |████████████████████████████████| 961 kB 39.2 MB/s \n",
            "\u001b[?25hRequirement already satisfied: chardet<4,>=3.0.2 in /usr/local/lib/python3.7/dist-packages (from requests) (3.0.4)\n",
            "Requirement already satisfied: certifi>=2017.4.17 in /usr/local/lib/python3.7/dist-packages (from requests) (2021.10.8)\n",
            "Requirement already satisfied: idna<3,>=2.5 in /usr/local/lib/python3.7/dist-packages (from requests) (2.10)\n",
            "Requirement already satisfied: urllib3!=1.25.0,!=1.25.1,<1.26,>=1.21.1 in /usr/local/lib/python3.7/dist-packages (from requests) (1.24.3)\n",
            "Requirement already satisfied: cffi>=1.4.1 in /usr/local/lib/python3.7/dist-packages (from pynacl>=1.4.0->PyGithub) (1.15.0)\n",
            "Requirement already satisfied: six in /usr/local/lib/python3.7/dist-packages (from pynacl>=1.4.0->PyGithub) (1.15.0)\n",
            "Requirement already satisfied: pycparser in /usr/local/lib/python3.7/dist-packages (from cffi>=1.4.1->pynacl>=1.4.0->PyGithub) (2.21)\n",
            "Requirement already satisfied: wrapt<2,>=1.10 in /usr/local/lib/python3.7/dist-packages (from deprecated->PyGithub) (1.13.3)\n",
            "Installing collected packages: pynacl, pyjwt, deprecated, PyGithub\n",
            "Successfully installed PyGithub-1.55 deprecated-1.2.13 pyjwt-2.3.0 pynacl-1.4.0\n"
          ]
        }
      ]
    },
    {
      "cell_type": "code",
      "execution_count": null,
      "metadata": {
        "colab": {
          "base_uri": "https://localhost:8080/"
        },
        "id": "Cr9WQEnLotiv",
        "outputId": "560bf252-872b-4d71-ef8c-879ac2a6cfe7"
      },
      "outputs": [
        {
          "output_type": "stream",
          "name": "stdout",
          "text": [
            "Full name: angular/angular.js\n",
            "Description: AngularJS - HTML enhanced for web apps!\n",
            "Date created: 2010-01-06 00:34:37\n",
            "Date of last push: 2021-12-09 23:20:01\n",
            "Home Page: https://angularjs.org\n",
            "Language: JavaScript\n",
            "Number of forks: 28409\n",
            "Number of stars: 59577\n",
            "--------------------------------------------------\n",
            "Contents:\n",
            "ContentFile(path=\".circleci\")\n",
            "ContentFile(path=\".editorconfig\")\n",
            "ContentFile(path=\".eslintignore\")\n",
            "ContentFile(path=\".eslintrc-base.json\")\n",
            "ContentFile(path=\".eslintrc-browser.json\")\n",
            "ContentFile(path=\".eslintrc-node.json\")\n",
            "ContentFile(path=\".eslintrc-todo.json\")\n",
            "ContentFile(path=\".eslintrc.json\")\n",
            "ContentFile(path=\".gitattributes\")\n",
            "ContentFile(path=\".github\")\n",
            "ContentFile(path=\".gitignore\")\n",
            "ContentFile(path=\".mailmap\")\n",
            "ContentFile(path=\".nvmrc\")\n",
            "ContentFile(path=\"CHANGELOG.md\")\n",
            "ContentFile(path=\"CODE_OF_CONDUCT.md\")\n",
            "ContentFile(path=\"CONTRIBUTING.md\")\n",
            "ContentFile(path=\"DEVELOPERS.md\")\n",
            "ContentFile(path=\"Gruntfile.js\")\n",
            "ContentFile(path=\"LICENSE\")\n",
            "ContentFile(path=\"README.closure.md\")\n",
            "ContentFile(path=\"README.md\")\n",
            "ContentFile(path=\"RELEASE.md\")\n",
            "ContentFile(path=\"SECURITY.md\")\n",
            "ContentFile(path=\"TRIAGING.md\")\n",
            "ContentFile(path=\"angularFiles.js\")\n",
            "ContentFile(path=\"benchmarks\")\n",
            "ContentFile(path=\"css\")\n",
            "ContentFile(path=\"docs\")\n",
            "ContentFile(path=\"i18n\")\n",
            "ContentFile(path=\"images\")\n",
            "ContentFile(path=\"karma-docs.conf.js\")\n",
            "ContentFile(path=\"karma-jqlite.conf.js\")\n",
            "ContentFile(path=\"karma-jquery-2.1.conf.js\")\n",
            "ContentFile(path=\"karma-jquery-2.2.conf.js\")\n",
            "ContentFile(path=\"karma-jquery.conf-factory.js\")\n",
            "ContentFile(path=\"karma-jquery.conf.js\")\n",
            "ContentFile(path=\"karma-modules-ngAnimate.conf.js\")\n",
            "ContentFile(path=\"karma-modules-ngMock.conf.js\")\n",
            "ContentFile(path=\"karma-modules.conf.js\")\n",
            "ContentFile(path=\"karma-shared.conf.js\")\n",
            "ContentFile(path=\"lib\")\n",
            "ContentFile(path=\"logs\")\n",
            "ContentFile(path=\"package.json\")\n",
            "ContentFile(path=\"protractor-circleci-conf.js\")\n",
            "ContentFile(path=\"protractor-conf.js\")\n",
            "ContentFile(path=\"protractor-shared-conf.js\")\n",
            "ContentFile(path=\"scripts\")\n",
            "ContentFile(path=\"src\")\n",
            "ContentFile(path=\"test\")\n",
            "ContentFile(path=\"vendor\")\n",
            "ContentFile(path=\"yarn.lock\")\n"
          ]
        }
      ],
      "source": [
        "from github import Github\n",
        "\n",
        "# authenticate to github\n",
        "g = Github()\n",
        "\n",
        "repo = g.search_repositories(\"angular/angular.js\")[0]\n",
        "\n",
        "print(\"Full name:\", repo.full_name)\n",
        "print(\"Description:\", repo.description)\n",
        "print(\"Date created:\", repo.created_at)\n",
        "print(\"Date of last push:\", repo.pushed_at)\n",
        "print(\"Home Page:\", repo.homepage)\n",
        "print(\"Language:\", repo.language)\n",
        "print(\"Number of forks:\", repo.forks)\n",
        "print(\"Number of stars:\", repo.stargazers_count)\n",
        "print(\"-\"*50)\n",
        "# repository content (files & directories)\n",
        "print(\"Contents:\")\n",
        "for content in repo.get_contents(\"\"):\n",
        "    print(content)"
      ]
    },
    {
      "cell_type": "code",
      "source": [
        "import json\n",
        "\n",
        "pulls = repo.get_pulls(state='closed', sort='created', direction='asc')\n",
        "\n",
        "with open('output.json', 'a') as outfile:\n",
        "  for pr in pulls:\n",
        "    outfile.write(str(pr))"
      ],
      "metadata": {
        "colab": {
          "base_uri": "https://localhost:8080/",
          "height": 201
        },
        "id": "svxs9KXzsmEd",
        "outputId": "663b423f-8d3d-4fcb-e0df-e0f71bf84956"
      },
      "execution_count": null,
      "outputs": [
        {
          "output_type": "error",
          "ename": "TypeError",
          "evalue": "ignored",
          "traceback": [
            "\u001b[0;31m---------------------------------------------------------------------------\u001b[0m",
            "\u001b[0;31mTypeError\u001b[0m                                 Traceback (most recent call last)",
            "\u001b[0;32m<ipython-input-42-7852dbb70785>\u001b[0m in \u001b[0;36m<module>\u001b[0;34m()\u001b[0m\n\u001b[1;32m      5\u001b[0m \u001b[0;32mwith\u001b[0m \u001b[0mopen\u001b[0m\u001b[0;34m(\u001b[0m\u001b[0;34m'output.json'\u001b[0m\u001b[0;34m,\u001b[0m \u001b[0;34m'a'\u001b[0m\u001b[0;34m)\u001b[0m \u001b[0;32mas\u001b[0m \u001b[0moutfile\u001b[0m\u001b[0;34m:\u001b[0m\u001b[0;34m\u001b[0m\u001b[0;34m\u001b[0m\u001b[0m\n\u001b[1;32m      6\u001b[0m   \u001b[0;32mfor\u001b[0m \u001b[0mpr\u001b[0m \u001b[0;32min\u001b[0m \u001b[0mpulls\u001b[0m\u001b[0;34m:\u001b[0m\u001b[0;34m\u001b[0m\u001b[0;34m\u001b[0m\u001b[0m\n\u001b[0;32m----> 7\u001b[0;31m     \u001b[0moutfile\u001b[0m\u001b[0;34m.\u001b[0m\u001b[0mwrite\u001b[0m\u001b[0;34m(\u001b[0m\u001b[0mpr\u001b[0m\u001b[0;34m)\u001b[0m\u001b[0;34m\u001b[0m\u001b[0;34m\u001b[0m\u001b[0m\n\u001b[0m",
            "\u001b[0;31mTypeError\u001b[0m: write() argument must be str, not PullRequest"
          ]
        }
      ]
    },
    {
      "cell_type": "code",
      "source": [
        "usernames_involved = set()\n",
        "\n",
        "pr = pulls[100]\n",
        "\n",
        "for review in pr.get_reviews():\n",
        "    usernames_involved.add(review.user.username)\n",
        "\n",
        "users_requested, teams_requested = pr.get_review_requests()\n",
        "\n",
        "for user in users_requested:\n",
        "    usernames_involved.add(user.username)\n",
        "\n",
        "for team in teams_requested:\n",
        "    for user in team.get_members():\n",
        "        usernames_involved.add(user.username)\n",
        "\n",
        "print(usernames_involved)"
      ],
      "metadata": {
        "colab": {
          "base_uri": "https://localhost:8080/"
        },
        "id": "EOziE3FBQFyr",
        "outputId": "f2a11064-9a2f-4a3e-ee0c-7d759ecb6f35"
      },
      "execution_count": null,
      "outputs": [
        {
          "output_type": "stream",
          "name": "stdout",
          "text": [
            "set()\n"
          ]
        }
      ]
    },
    {
      "cell_type": "markdown",
      "source": [
        "# Implementation"
      ],
      "metadata": {
        "id": "bDSLuxVTxMyd"
      }
    },
    {
      "cell_type": "code",
      "source": [
        "import os\n",
        "from numpy import *\n",
        "import json\n",
        "import pandas as pd\n",
        "from random import *\n",
        "import math\n",
        "from datetime import *\n",
        "from dateutil import parser\n",
        "import itertools\n",
        "from collections import defaultdict"
      ],
      "metadata": {
        "id": "EaewbUzfxcfr"
      },
      "execution_count": 1,
      "outputs": []
    },
    {
      "cell_type": "code",
      "source": [
        "from google.colab import drive\n",
        "drive.mount('/content/drive', force_remount=True)"
      ],
      "metadata": {
        "colab": {
          "base_uri": "https://localhost:8080/"
        },
        "id": "Oh8NjnYjxsTs",
        "outputId": "fae838c9-b7f0-4146-f5ca-1334dcbb5c36"
      },
      "execution_count": 2,
      "outputs": [
        {
          "output_type": "stream",
          "name": "stdout",
          "text": [
            "Mounted at /content/drive\n"
          ]
        }
      ]
    },
    {
      "cell_type": "markdown",
      "source": [
        "## Load and Clean data"
      ],
      "metadata": {
        "id": "ykz9BnEtNAPb"
      }
    },
    {
      "cell_type": "code",
      "source": [
        "# Load data from drive\n",
        "f = open('/content/drive/MyDrive/Colab Notebooks/My Project/openstack_final.json',)\n",
        "data = json.load(f)  # returns json object as a dictionary\n",
        "for i in range(5):   # 5 first elements of the json list\n",
        "    print(data[i])\n",
        "f.close()"
      ],
      "metadata": {
        "colab": {
          "base_uri": "https://localhost:8080/"
        },
        "id": "r4wYyDPmyUXa",
        "outputId": "c191a711-66e0-40f6-d9d8-2f2b212e94dd"
      },
      "execution_count": 94,
      "outputs": [
        {
          "output_type": "stream",
          "name": "stdout",
          "text": [
            "{'time': '2011-07-18 15:43:34', 'changeId': 'Ibb2f047c9c45d011361d253d4444b2fd1ebd3612', 'ownerId': '1', 'reviewersId': ['2'], 'filePaths': ['modules/ssh/files/sshd_config', 'manifests/server.pp', 'modules/ssh/manifests/init.pp']}\n",
            "{'time': '2011-07-18 16:56:22', 'changeId': 'Iea32ad3aedbee996db53655842061d14c9e3d876', 'ownerId': '1', 'reviewersId': ['1'], 'filePaths': ['modules/jenkins_slave/manifests/jenkinsuser.pp', 'modules/jenkins_slave/files/known_hosts']}\n",
            "{'time': '2011-07-18 17:14:05', 'changeId': 'Ib6af08a6af71a6e5853d958a12f63c381eafa039', 'ownerId': '1', 'reviewersId': ['1'], 'filePaths': ['modules/jenkins_slave/manifests/jenkinsuser.pp']}\n",
            "{'time': '2011-07-20 14:37:53', 'changeId': 'Ide7975c522b6b31a23af67b135135c07d75d9bde', 'ownerId': '2', 'reviewersId': ['1'], 'filePaths': ['modules/jenkins_slave/files/pubring.gpg', 'modules/jenkins_slave/manifests/jenkinsuser.pp']}\n",
            "{'time': '2011-07-20 15:12:47', 'changeId': 'I28119ac1735127812866a4b0519368a829e2e666', 'ownerId': '2', 'reviewersId': ['1'], 'filePaths': ['manifests/openstack_ci.pp']}\n"
          ]
        }
      ]
    },
    {
      "cell_type": "code",
      "source": [
        "# convert times to datetime format\n",
        "for pr in data:\n",
        "  pr['time'] = parser.parse(pr['time'])\n",
        "\n",
        "data[0]"
      ],
      "metadata": {
        "colab": {
          "base_uri": "https://localhost:8080/"
        },
        "id": "f5uOS4vS2g4L",
        "outputId": "25a4c190-0f2f-44b4-d63e-12a5fd673c3c"
      },
      "execution_count": 95,
      "outputs": [
        {
          "output_type": "execute_result",
          "data": {
            "text/plain": [
              "{'changeId': 'Ibb2f047c9c45d011361d253d4444b2fd1ebd3612',\n",
              " 'filePaths': ['modules/ssh/files/sshd_config',\n",
              "  'manifests/server.pp',\n",
              "  'modules/ssh/manifests/init.pp'],\n",
              " 'ownerId': '1',\n",
              " 'reviewersId': ['2'],\n",
              " 'time': datetime.datetime(2011, 7, 18, 15, 43, 34)}"
            ]
          },
          "metadata": {},
          "execution_count": 95
        }
      ]
    },
    {
      "cell_type": "code",
      "source": [
        "len(data)"
      ],
      "metadata": {
        "colab": {
          "base_uri": "https://localhost:8080/"
        },
        "id": "YzPd_jY0y2Fr",
        "outputId": "5adb9a2e-b75e-4abf-d630-6f195acf1ad3"
      },
      "execution_count": 96,
      "outputs": [
        {
          "output_type": "execute_result",
          "data": {
            "text/plain": [
              "6545"
            ]
          },
          "metadata": {},
          "execution_count": 96
        }
      ]
    },
    {
      "cell_type": "code",
      "source": [
        "# Save only PRs with 1 reviwer (to make the results similar to the paper)\n",
        "final_data = []\n",
        "for pr in data:\n",
        "  if len(pr['reviewersId']) == 1:\n",
        "    final_data.append(pr)\n",
        "\n",
        "len(final_data)"
      ],
      "metadata": {
        "colab": {
          "base_uri": "https://localhost:8080/"
        },
        "id": "sAnd5GZ5zCsC",
        "outputId": "30c72b85-a317-4c51-9090-09702c2c1dfd"
      },
      "execution_count": 97,
      "outputs": [
        {
          "output_type": "execute_result",
          "data": {
            "text/plain": [
              "3786"
            ]
          },
          "metadata": {},
          "execution_count": 97
        }
      ]
    },
    {
      "cell_type": "markdown",
      "source": [
        "## Approach"
      ],
      "metadata": {
        "id": "Y2B-GrL9yMPz"
      }
    },
    {
      "cell_type": "code",
      "source": [
        "# Split train/test sets\n",
        "train = final_data[0:3400]\n",
        "test = final_data[3400]\n",
        "\n",
        "test"
      ],
      "metadata": {
        "colab": {
          "base_uri": "https://localhost:8080/"
        },
        "id": "jDb0VSr1yPfu",
        "outputId": "801bdb12-054a-4970-d579-a3ad9664e389"
      },
      "execution_count": 233,
      "outputs": [
        {
          "output_type": "execute_result",
          "data": {
            "text/plain": [
              "{'changeId': 'Idf77e2ed3d0cce61b01f3ca2ef8844beb65c77be',\n",
              " 'filePaths': ['doc/src/docbkx/openstack-compute-admin/pom.xml',\n",
              "  'doc/src/docbkx/openstack-compute-admin/computescheduler.xml',\n",
              "  'doc/src/docbkx/openstack-compute-admin/computeconfigure.xml'],\n",
              " 'ownerId': '3114',\n",
              " 'reviewersId': ['964'],\n",
              " 'time': datetime.datetime(2012, 4, 25, 15, 4, 30)}"
            ]
          },
          "metadata": {},
          "execution_count": 233
        }
      ]
    },
    {
      "cell_type": "code",
      "source": [
        "def get_all_reviewers():\n",
        "  # create a set of all reviewers\n",
        "  all_reviewers = set()   \n",
        "  for pr in final_data:\n",
        "    for r in pr['reviewersId']:\n",
        "      all_reviewers.add(r)\n",
        "  return all_reviewers"
      ],
      "metadata": {
        "id": "Aa4RJezH7Phm"
      },
      "execution_count": 100,
      "outputs": []
    },
    {
      "cell_type": "code",
      "source": [
        "all_reviewers = list(get_all_reviewers())\n",
        "M = len(all_reviewers)\n",
        "\n",
        "M"
      ],
      "metadata": {
        "colab": {
          "base_uri": "https://localhost:8080/"
        },
        "id": "l4hZktly7LVP",
        "outputId": "cfa70b3e-9126-4d62-9faa-48e5b2bf3896"
      },
      "execution_count": 101,
      "outputs": [
        {
          "output_type": "execute_result",
          "data": {
            "text/plain": [
              "76"
            ]
          },
          "metadata": {},
          "execution_count": 101
        }
      ]
    },
    {
      "cell_type": "code",
      "source": [
        "lambda_val = 7  # can be changed"
      ],
      "metadata": {
        "id": "UEZOAOtvDsAE"
      },
      "execution_count": 242,
      "outputs": []
    },
    {
      "cell_type": "markdown",
      "source": [
        "### Time-decay Relationship"
      ],
      "metadata": {
        "id": "QXL5dt0LK4l1"
      }
    },
    {
      "cell_type": "code",
      "source": [
        "def find_PRlist(pull_reqs, reviewerId, cur_time):\n",
        "\n",
        "  # lambda days before the time of our test PR\n",
        "  lambda_ago = cur_time - timedelta(days=lambda_val)\n",
        "\n",
        "  # list of PRs in \"pull_reqs\" that are between time of lambda days ago up to the time of test PR\n",
        "  PS = [pr for pr in pull_reqs if ((lambda_ago < pr['time'] < cur_time) and (reviewerId in pr['reviewersId']))]\n",
        "  # print(\"size of final list:\", len(PS))\n",
        "\n",
        "  # PS will be the list of PRs which submitted by the owner of test PR and reviewed by any reviewer in lambda days ago\n",
        "  return PS "
      ],
      "metadata": {
        "id": "EvuChwJR5HFq"
      },
      "execution_count": 249,
      "outputs": []
    },
    {
      "cell_type": "code",
      "source": [
        "def cal_decayRelation(pull_reqs, cur_time):\n",
        "\n",
        "  # decayRelationship = 0.0\n",
        "  # for pr in pull_reqs:\n",
        "  #   diff_days = (cur_time-pr['time']).days\n",
        "  #   # print(diff_days)\n",
        "  #   if diff_days != 0:\n",
        "  #     decayRelationship += 1/diff_days\n",
        "\n",
        "  # OR\n",
        "  decayRelationship = sum([(1/(cur_time-pr['time']).days) for pr in pull_reqs if ((cur_time-pr['time']).days!=0)])\n",
        "\n",
        "  return decayRelationship"
      ],
      "metadata": {
        "id": "R50PWhUTBSG1"
      },
      "execution_count": 235,
      "outputs": []
    },
    {
      "cell_type": "markdown",
      "source": [
        "### Time-decay File Similarity"
      ],
      "metadata": {
        "id": "jSr0bEw8K-GQ"
      }
    },
    {
      "cell_type": "code",
      "source": [
        "def pathDistance(f1, f2):\n",
        "  return len(os.path.commonprefix([f1, f2]).split(\"/\")[0:-1]) / max(len(f1.split(\"/\")), len(f2.split(\"/\")))"
      ],
      "metadata": {
        "id": "UDj0SIRAjz8B"
      },
      "execution_count": 236,
      "outputs": []
    },
    {
      "cell_type": "code",
      "source": [
        "def prDistance(pr1, pr2):\n",
        "\n",
        "  # path_dist_sum = 0\n",
        "  # for f1 in pr1['filePaths']:\n",
        "  #   for f2 in pr2['filePaths']:\n",
        "  #    # print(pathDistance(f1, f2))\n",
        "  #     path_dist_sum += pathDistance(f1, f2)\n",
        "\n",
        "  # OR\n",
        "  path_dist_sum = sum([pathDistance(f1, f2) for f1 in pr1['filePaths'] for f2 in pr2['filePaths']])\n",
        "  \n",
        "  return path_dist_sum/(len(pr1['filePaths'])*len(pr2['filePaths']))"
      ],
      "metadata": {
        "id": "nHx994sQQDiB"
      },
      "execution_count": 256,
      "outputs": []
    },
    {
      "cell_type": "code",
      "source": [
        "def cal_decayFileSimilarity(pull_reqs, cur_time, test_pr):\n",
        "\n",
        "  # decayFileSimilarity = 0.0\n",
        "  # for pr in pull_reqs:\n",
        "  #   diff_days = (cur_time-pr['time']).days\n",
        "  #   # print(diff_days)\n",
        "  #   if diff_days != 0:\n",
        "  #     decayFileSimilarity += (prDistance(test_pr, pr) * (1/diff_days))\n",
        "\n",
        "  # OR\n",
        "  decayFileSimilarity = sum([prDistance(test_pr, pr)*(1/(cur_time-pr['time']).days) for pr in pull_reqs if ((cur_time-pr['time']).days!=0)])\n",
        "\n",
        "  return decayFileSimilarity"
      ],
      "metadata": {
        "id": "H6twprlvPPfJ"
      },
      "execution_count": 261,
      "outputs": []
    },
    {
      "cell_type": "markdown",
      "source": [
        "### Main"
      ],
      "metadata": {
        "id": "A89nchnfsRk4"
      }
    },
    {
      "cell_type": "code",
      "source": [
        "# For each test PR:\n",
        "\n",
        "# list of PRs that submitted by the owner of this PR in trainset\n",
        "OS = [pr for pr in train if (pr['ownerId'] == test['ownerId'])]\n",
        "# print(\"OS\", len(OS))\n",
        "\n",
        "cur_time = test['time']\n",
        "\n",
        "# Calculating time-decaying Relationship for each reviewer in whole project and put these values to a vector\n",
        "PRvector = [cal_decayRelation(find_PRlist(OS, rev, cur_time), cur_time) for rev in all_reviewers]\n",
        "\n",
        "# Calculating time-decaying File Similarity\n",
        "PRvector.extend([cal_decayFileSimilarity(find_PRlist(train, rev, cur_time), cur_time, test) for rev in all_reviewers])\n",
        "\n",
        "print(\"Pull Request Vector:\", PRvector)"
      ],
      "metadata": {
        "colab": {
          "base_uri": "https://localhost:8080/"
        },
        "id": "mSPuWpeF0jlD",
        "outputId": "1a32a6aa-d900-44c1-e9fc-1241a6b22382"
      },
      "execution_count": 263,
      "outputs": [
        {
          "output_type": "stream",
          "name": "stdout",
          "text": [
            "Pull Request Vector: [0.0, 0.0, 0.0, 0.0, 0.0, 0.0, 0.0, 0.0, 0.0, 0.0, 0.0, 0.0, 0.0, 0.0, 0.0, 0.0, 0.0, 0.0, 0.0, 0.0, 0.0, 0.0, 0.0, 0.0, 0.0, 0.0, 0.0, 0.0, 0.0, 0.0, 0.0, 0.0, 0.0, 0.0, 0.0, 0.0, 0.0, 0.0, 0.0, 0.0, 0.0, 0.0, 0.0, 0.0, 0.0, 0.0, 0.0, 0.0, 0.0, 0.0, 0.0, 0.0, 0.0, 0.0, 0.0, 0.0, 0.0, 0.0, 0.0, 0.0, 0.0, 0.0, 0.0, 0.0, 0.0, 0.0, 0.0, 0.0, 0.0, 0.0, 0.0, 0.0, 0.0, 0.0, 0.0, 0.0, 0.0, 0.0, 0.0, 0.0, 1.2399999999999998, 0.0, 0.0, 0.0, 0.0, 0.0, 0.0, 0.0, 0.0, 0.0, 0.0, 0.0, 0.0, 0.0, 0.0, 0.0, 0.0, 0.0, 0.0, 0.0, 0.0, 0.0, 0.0, 0.0, 0.0, 0.0, 0.0, 0.0, 0.0, 0.0, 0.0, 0.0, 0.0, 0.0, 0.0, 0.0, 0.0, 0.09999999999999999, 0.0, 0.0, 0.0, 0.0, 0.0, 0.0, 0.0, 0.0, 0.0, 0.0, 0.0, 0.0, 0.0, 0.0, 0.0, 0.0, 0.0, 0.0, 0.0, 0.0, 0.0, 0.0, 0.0, 1.9740740330637743, 0.0, 0.0, 0.0, 0.0, 0.0, 0.0, 0.0, 0.0, 0.0, 0.0]\n"
          ]
        }
      ]
    }
  ]
}
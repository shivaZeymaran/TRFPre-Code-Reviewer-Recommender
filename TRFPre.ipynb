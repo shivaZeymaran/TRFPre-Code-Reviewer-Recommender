{
  "nbformat": 4,
  "nbformat_minor": 0,
  "metadata": {
    "colab": {
      "name": "TRFPre.ipynb",
      "provenance": [],
      "collapsed_sections": [
        "nNjUGRr1xHhv"
      ],
      "authorship_tag": "ABX9TyNJVDY4nv/lR6SJdUHQ+EIl"
    },
    "kernelspec": {
      "name": "python3",
      "display_name": "Python 3"
    },
    "language_info": {
      "name": "python"
    }
  },
  "cells": [
    {
      "cell_type": "markdown",
      "source": [
        "# Crawling Data"
      ],
      "metadata": {
        "id": "nNjUGRr1xHhv"
      }
    },
    {
      "cell_type": "code",
      "source": [
        "!pip3 install PyGithub requests"
      ],
      "metadata": {
        "colab": {
          "base_uri": "https://localhost:8080/"
        },
        "id": "faqVWKmspdmW",
        "outputId": "0b0f5c4e-7b88-4a67-fad4-017431e311b0"
      },
      "execution_count": null,
      "outputs": [
        {
          "output_type": "stream",
          "name": "stdout",
          "text": [
            "Collecting PyGithub\n",
            "  Downloading PyGithub-1.55-py3-none-any.whl (291 kB)\n",
            "\u001b[?25l\r\u001b[K     |█▏                              | 10 kB 29.0 MB/s eta 0:00:01\r\u001b[K     |██▎                             | 20 kB 31.3 MB/s eta 0:00:01\r\u001b[K     |███▍                            | 30 kB 33.4 MB/s eta 0:00:01\r\u001b[K     |████▌                           | 40 kB 32.3 MB/s eta 0:00:01\r\u001b[K     |█████▋                          | 51 kB 31.1 MB/s eta 0:00:01\r\u001b[K     |██████▊                         | 61 kB 30.4 MB/s eta 0:00:01\r\u001b[K     |███████▉                        | 71 kB 30.1 MB/s eta 0:00:01\r\u001b[K     |█████████                       | 81 kB 30.7 MB/s eta 0:00:01\r\u001b[K     |██████████                      | 92 kB 31.5 MB/s eta 0:00:01\r\u001b[K     |███████████▎                    | 102 kB 33.4 MB/s eta 0:00:01\r\u001b[K     |████████████▍                   | 112 kB 33.4 MB/s eta 0:00:01\r\u001b[K     |█████████████▌                  | 122 kB 33.4 MB/s eta 0:00:01\r\u001b[K     |██████████████▋                 | 133 kB 33.4 MB/s eta 0:00:01\r\u001b[K     |███████████████▊                | 143 kB 33.4 MB/s eta 0:00:01\r\u001b[K     |████████████████▉               | 153 kB 33.4 MB/s eta 0:00:01\r\u001b[K     |██████████████████              | 163 kB 33.4 MB/s eta 0:00:01\r\u001b[K     |███████████████████             | 174 kB 33.4 MB/s eta 0:00:01\r\u001b[K     |████████████████████▏           | 184 kB 33.4 MB/s eta 0:00:01\r\u001b[K     |█████████████████████▍          | 194 kB 33.4 MB/s eta 0:00:01\r\u001b[K     |██████████████████████▌         | 204 kB 33.4 MB/s eta 0:00:01\r\u001b[K     |███████████████████████▋        | 215 kB 33.4 MB/s eta 0:00:01\r\u001b[K     |████████████████████████▊       | 225 kB 33.4 MB/s eta 0:00:01\r\u001b[K     |█████████████████████████▉      | 235 kB 33.4 MB/s eta 0:00:01\r\u001b[K     |███████████████████████████     | 245 kB 33.4 MB/s eta 0:00:01\r\u001b[K     |████████████████████████████    | 256 kB 33.4 MB/s eta 0:00:01\r\u001b[K     |█████████████████████████████▏  | 266 kB 33.4 MB/s eta 0:00:01\r\u001b[K     |██████████████████████████████▎ | 276 kB 33.4 MB/s eta 0:00:01\r\u001b[K     |███████████████████████████████▌| 286 kB 33.4 MB/s eta 0:00:01\r\u001b[K     |████████████████████████████████| 291 kB 33.4 MB/s \n",
            "\u001b[?25hRequirement already satisfied: requests in /usr/local/lib/python3.7/dist-packages (2.23.0)\n",
            "Collecting deprecated\n",
            "  Downloading Deprecated-1.2.13-py2.py3-none-any.whl (9.6 kB)\n",
            "Collecting pyjwt>=2.0\n",
            "  Downloading PyJWT-2.3.0-py3-none-any.whl (16 kB)\n",
            "Collecting pynacl>=1.4.0\n",
            "  Downloading PyNaCl-1.4.0-cp35-abi3-manylinux1_x86_64.whl (961 kB)\n",
            "\u001b[K     |████████████████████████████████| 961 kB 39.2 MB/s \n",
            "\u001b[?25hRequirement already satisfied: chardet<4,>=3.0.2 in /usr/local/lib/python3.7/dist-packages (from requests) (3.0.4)\n",
            "Requirement already satisfied: certifi>=2017.4.17 in /usr/local/lib/python3.7/dist-packages (from requests) (2021.10.8)\n",
            "Requirement already satisfied: idna<3,>=2.5 in /usr/local/lib/python3.7/dist-packages (from requests) (2.10)\n",
            "Requirement already satisfied: urllib3!=1.25.0,!=1.25.1,<1.26,>=1.21.1 in /usr/local/lib/python3.7/dist-packages (from requests) (1.24.3)\n",
            "Requirement already satisfied: cffi>=1.4.1 in /usr/local/lib/python3.7/dist-packages (from pynacl>=1.4.0->PyGithub) (1.15.0)\n",
            "Requirement already satisfied: six in /usr/local/lib/python3.7/dist-packages (from pynacl>=1.4.0->PyGithub) (1.15.0)\n",
            "Requirement already satisfied: pycparser in /usr/local/lib/python3.7/dist-packages (from cffi>=1.4.1->pynacl>=1.4.0->PyGithub) (2.21)\n",
            "Requirement already satisfied: wrapt<2,>=1.10 in /usr/local/lib/python3.7/dist-packages (from deprecated->PyGithub) (1.13.3)\n",
            "Installing collected packages: pynacl, pyjwt, deprecated, PyGithub\n",
            "Successfully installed PyGithub-1.55 deprecated-1.2.13 pyjwt-2.3.0 pynacl-1.4.0\n"
          ]
        }
      ]
    },
    {
      "cell_type": "code",
      "execution_count": null,
      "metadata": {
        "colab": {
          "base_uri": "https://localhost:8080/"
        },
        "id": "Cr9WQEnLotiv",
        "outputId": "560bf252-872b-4d71-ef8c-879ac2a6cfe7"
      },
      "outputs": [
        {
          "output_type": "stream",
          "name": "stdout",
          "text": [
            "Full name: angular/angular.js\n",
            "Description: AngularJS - HTML enhanced for web apps!\n",
            "Date created: 2010-01-06 00:34:37\n",
            "Date of last push: 2021-12-09 23:20:01\n",
            "Home Page: https://angularjs.org\n",
            "Language: JavaScript\n",
            "Number of forks: 28409\n",
            "Number of stars: 59577\n",
            "--------------------------------------------------\n",
            "Contents:\n",
            "ContentFile(path=\".circleci\")\n",
            "ContentFile(path=\".editorconfig\")\n",
            "ContentFile(path=\".eslintignore\")\n",
            "ContentFile(path=\".eslintrc-base.json\")\n",
            "ContentFile(path=\".eslintrc-browser.json\")\n",
            "ContentFile(path=\".eslintrc-node.json\")\n",
            "ContentFile(path=\".eslintrc-todo.json\")\n",
            "ContentFile(path=\".eslintrc.json\")\n",
            "ContentFile(path=\".gitattributes\")\n",
            "ContentFile(path=\".github\")\n",
            "ContentFile(path=\".gitignore\")\n",
            "ContentFile(path=\".mailmap\")\n",
            "ContentFile(path=\".nvmrc\")\n",
            "ContentFile(path=\"CHANGELOG.md\")\n",
            "ContentFile(path=\"CODE_OF_CONDUCT.md\")\n",
            "ContentFile(path=\"CONTRIBUTING.md\")\n",
            "ContentFile(path=\"DEVELOPERS.md\")\n",
            "ContentFile(path=\"Gruntfile.js\")\n",
            "ContentFile(path=\"LICENSE\")\n",
            "ContentFile(path=\"README.closure.md\")\n",
            "ContentFile(path=\"README.md\")\n",
            "ContentFile(path=\"RELEASE.md\")\n",
            "ContentFile(path=\"SECURITY.md\")\n",
            "ContentFile(path=\"TRIAGING.md\")\n",
            "ContentFile(path=\"angularFiles.js\")\n",
            "ContentFile(path=\"benchmarks\")\n",
            "ContentFile(path=\"css\")\n",
            "ContentFile(path=\"docs\")\n",
            "ContentFile(path=\"i18n\")\n",
            "ContentFile(path=\"images\")\n",
            "ContentFile(path=\"karma-docs.conf.js\")\n",
            "ContentFile(path=\"karma-jqlite.conf.js\")\n",
            "ContentFile(path=\"karma-jquery-2.1.conf.js\")\n",
            "ContentFile(path=\"karma-jquery-2.2.conf.js\")\n",
            "ContentFile(path=\"karma-jquery.conf-factory.js\")\n",
            "ContentFile(path=\"karma-jquery.conf.js\")\n",
            "ContentFile(path=\"karma-modules-ngAnimate.conf.js\")\n",
            "ContentFile(path=\"karma-modules-ngMock.conf.js\")\n",
            "ContentFile(path=\"karma-modules.conf.js\")\n",
            "ContentFile(path=\"karma-shared.conf.js\")\n",
            "ContentFile(path=\"lib\")\n",
            "ContentFile(path=\"logs\")\n",
            "ContentFile(path=\"package.json\")\n",
            "ContentFile(path=\"protractor-circleci-conf.js\")\n",
            "ContentFile(path=\"protractor-conf.js\")\n",
            "ContentFile(path=\"protractor-shared-conf.js\")\n",
            "ContentFile(path=\"scripts\")\n",
            "ContentFile(path=\"src\")\n",
            "ContentFile(path=\"test\")\n",
            "ContentFile(path=\"vendor\")\n",
            "ContentFile(path=\"yarn.lock\")\n"
          ]
        }
      ],
      "source": [
        "from github import Github\n",
        "\n",
        "# authenticate to github\n",
        "g = Github()\n",
        "\n",
        "repo = g.search_repositories(\"angular/angular.js\")[0]\n",
        "\n",
        "print(\"Full name:\", repo.full_name)\n",
        "print(\"Description:\", repo.description)\n",
        "print(\"Date created:\", repo.created_at)\n",
        "print(\"Date of last push:\", repo.pushed_at)\n",
        "print(\"Home Page:\", repo.homepage)\n",
        "print(\"Language:\", repo.language)\n",
        "print(\"Number of forks:\", repo.forks)\n",
        "print(\"Number of stars:\", repo.stargazers_count)\n",
        "print(\"-\"*50)\n",
        "# repository content (files & directories)\n",
        "print(\"Contents:\")\n",
        "for content in repo.get_contents(\"\"):\n",
        "    print(content)"
      ]
    },
    {
      "cell_type": "code",
      "source": [
        "import json\n",
        "\n",
        "pulls = repo.get_pulls(state='closed', sort='created', direction='asc')\n",
        "\n",
        "with open('output.json', 'a') as outfile:\n",
        "  for pr in pulls:\n",
        "    outfile.write(str(pr))"
      ],
      "metadata": {
        "colab": {
          "base_uri": "https://localhost:8080/",
          "height": 201
        },
        "id": "svxs9KXzsmEd",
        "outputId": "663b423f-8d3d-4fcb-e0df-e0f71bf84956"
      },
      "execution_count": null,
      "outputs": [
        {
          "output_type": "error",
          "ename": "TypeError",
          "evalue": "ignored",
          "traceback": [
            "\u001b[0;31m---------------------------------------------------------------------------\u001b[0m",
            "\u001b[0;31mTypeError\u001b[0m                                 Traceback (most recent call last)",
            "\u001b[0;32m<ipython-input-42-7852dbb70785>\u001b[0m in \u001b[0;36m<module>\u001b[0;34m()\u001b[0m\n\u001b[1;32m      5\u001b[0m \u001b[0;32mwith\u001b[0m \u001b[0mopen\u001b[0m\u001b[0;34m(\u001b[0m\u001b[0;34m'output.json'\u001b[0m\u001b[0;34m,\u001b[0m \u001b[0;34m'a'\u001b[0m\u001b[0;34m)\u001b[0m \u001b[0;32mas\u001b[0m \u001b[0moutfile\u001b[0m\u001b[0;34m:\u001b[0m\u001b[0;34m\u001b[0m\u001b[0;34m\u001b[0m\u001b[0m\n\u001b[1;32m      6\u001b[0m   \u001b[0;32mfor\u001b[0m \u001b[0mpr\u001b[0m \u001b[0;32min\u001b[0m \u001b[0mpulls\u001b[0m\u001b[0;34m:\u001b[0m\u001b[0;34m\u001b[0m\u001b[0;34m\u001b[0m\u001b[0m\n\u001b[0;32m----> 7\u001b[0;31m     \u001b[0moutfile\u001b[0m\u001b[0;34m.\u001b[0m\u001b[0mwrite\u001b[0m\u001b[0;34m(\u001b[0m\u001b[0mpr\u001b[0m\u001b[0;34m)\u001b[0m\u001b[0;34m\u001b[0m\u001b[0;34m\u001b[0m\u001b[0m\n\u001b[0m",
            "\u001b[0;31mTypeError\u001b[0m: write() argument must be str, not PullRequest"
          ]
        }
      ]
    },
    {
      "cell_type": "code",
      "source": [
        "usernames_involved = set()\n",
        "\n",
        "pr = pulls[100]\n",
        "\n",
        "for review in pr.get_reviews():\n",
        "    usernames_involved.add(review.user.username)\n",
        "\n",
        "users_requested, teams_requested = pr.get_review_requests()\n",
        "\n",
        "for user in users_requested:\n",
        "    usernames_involved.add(user.username)\n",
        "\n",
        "for team in teams_requested:\n",
        "    for user in team.get_members():\n",
        "        usernames_involved.add(user.username)\n",
        "\n",
        "print(usernames_involved)"
      ],
      "metadata": {
        "colab": {
          "base_uri": "https://localhost:8080/"
        },
        "id": "EOziE3FBQFyr",
        "outputId": "f2a11064-9a2f-4a3e-ee0c-7d759ecb6f35"
      },
      "execution_count": null,
      "outputs": [
        {
          "output_type": "stream",
          "name": "stdout",
          "text": [
            "set()\n"
          ]
        }
      ]
    },
    {
      "cell_type": "markdown",
      "source": [
        "# Implementation"
      ],
      "metadata": {
        "id": "bDSLuxVTxMyd"
      }
    },
    {
      "cell_type": "code",
      "source": [
        "import os\n",
        "import numpy as np\n",
        "import shutil\n",
        "import json\n",
        "import pandas as pd\n",
        "import math\n",
        "from datetime import *\n",
        "from dateutil import parser\n",
        "import itertools\n",
        "from collections import defaultdict\n",
        "import sklearn\n",
        "from sklearn.ensemble import RandomForestClassifier\n",
        "from sklearn.model_selection import cross_val_score\n",
        "from sklearn.naive_bayes import GaussianNB"
      ],
      "metadata": {
        "id": "EaewbUzfxcfr"
      },
      "execution_count": 4,
      "outputs": []
    },
    {
      "cell_type": "code",
      "source": [
        "from google.colab import drive\n",
        "drive.mount('/content/drive', force_remount=True)"
      ],
      "metadata": {
        "colab": {
          "base_uri": "https://localhost:8080/"
        },
        "id": "Oh8NjnYjxsTs",
        "outputId": "3e90925a-5e94-49c5-c479-1c0cbc447c33"
      },
      "execution_count": 2,
      "outputs": [
        {
          "output_type": "stream",
          "name": "stdout",
          "text": [
            "Mounted at /content/drive\n"
          ]
        }
      ]
    },
    {
      "cell_type": "markdown",
      "source": [
        "## Load and Clean data"
      ],
      "metadata": {
        "id": "ykz9BnEtNAPb"
      }
    },
    {
      "cell_type": "code",
      "source": [
        "# Load data from drive\n",
        "f = open('/content/drive/MyDrive/Colab Notebooks/My Project/openstack_final.json',)\n",
        "data = json.load(f)  # returns json object as a dictionary\n",
        "for i in range(5):   # 5 first elements of the json list\n",
        "    print(data[i])\n",
        "f.close()"
      ],
      "metadata": {
        "colab": {
          "base_uri": "https://localhost:8080/"
        },
        "id": "r4wYyDPmyUXa",
        "outputId": "65ede8e0-5af7-46a0-8804-b18feb772793"
      },
      "execution_count": 5,
      "outputs": [
        {
          "output_type": "stream",
          "name": "stdout",
          "text": [
            "{'time': '2011-07-18 15:43:34', 'changeId': 'Ibb2f047c9c45d011361d253d4444b2fd1ebd3612', 'ownerId': '1', 'reviewersId': ['2'], 'filePaths': ['modules/ssh/files/sshd_config', 'manifests/server.pp', 'modules/ssh/manifests/init.pp']}\n",
            "{'time': '2011-07-18 16:56:22', 'changeId': 'Iea32ad3aedbee996db53655842061d14c9e3d876', 'ownerId': '1', 'reviewersId': ['1'], 'filePaths': ['modules/jenkins_slave/manifests/jenkinsuser.pp', 'modules/jenkins_slave/files/known_hosts']}\n",
            "{'time': '2011-07-18 17:14:05', 'changeId': 'Ib6af08a6af71a6e5853d958a12f63c381eafa039', 'ownerId': '1', 'reviewersId': ['1'], 'filePaths': ['modules/jenkins_slave/manifests/jenkinsuser.pp']}\n",
            "{'time': '2011-07-20 14:37:53', 'changeId': 'Ide7975c522b6b31a23af67b135135c07d75d9bde', 'ownerId': '2', 'reviewersId': ['1'], 'filePaths': ['modules/jenkins_slave/files/pubring.gpg', 'modules/jenkins_slave/manifests/jenkinsuser.pp']}\n",
            "{'time': '2011-07-20 15:12:47', 'changeId': 'I28119ac1735127812866a4b0519368a829e2e666', 'ownerId': '2', 'reviewersId': ['1'], 'filePaths': ['manifests/openstack_ci.pp']}\n"
          ]
        }
      ]
    },
    {
      "cell_type": "code",
      "source": [
        "# convert times to datetime format\n",
        "for pr in data:\n",
        "  pr['time'] = parser.parse(pr['time'])\n",
        "\n",
        "data[0]"
      ],
      "metadata": {
        "colab": {
          "base_uri": "https://localhost:8080/"
        },
        "id": "f5uOS4vS2g4L",
        "outputId": "6de8bb18-c4e1-4fd0-c7be-6079e5df3041"
      },
      "execution_count": 6,
      "outputs": [
        {
          "output_type": "execute_result",
          "data": {
            "text/plain": [
              "{'changeId': 'Ibb2f047c9c45d011361d253d4444b2fd1ebd3612',\n",
              " 'filePaths': ['modules/ssh/files/sshd_config',\n",
              "  'manifests/server.pp',\n",
              "  'modules/ssh/manifests/init.pp'],\n",
              " 'ownerId': '1',\n",
              " 'reviewersId': ['2'],\n",
              " 'time': datetime.datetime(2011, 7, 18, 15, 43, 34)}"
            ]
          },
          "metadata": {},
          "execution_count": 6
        }
      ]
    },
    {
      "cell_type": "code",
      "source": [
        "len(data)"
      ],
      "metadata": {
        "colab": {
          "base_uri": "https://localhost:8080/"
        },
        "id": "YzPd_jY0y2Fr",
        "outputId": "43148854-a1a9-4780-fb01-0a9bdc2dcd4b"
      },
      "execution_count": 7,
      "outputs": [
        {
          "output_type": "execute_result",
          "data": {
            "text/plain": [
              "6545"
            ]
          },
          "metadata": {},
          "execution_count": 7
        }
      ]
    },
    {
      "cell_type": "code",
      "source": [
        "# Save only PRs with 1 reviwer (to make the results similar to the paper)\n",
        "final_data = []\n",
        "for pr in data:\n",
        "  if len(pr['reviewersId']) == 1:\n",
        "    final_data.append(pr)\n",
        "\n",
        "len(final_data)"
      ],
      "metadata": {
        "colab": {
          "base_uri": "https://localhost:8080/"
        },
        "id": "sAnd5GZ5zCsC",
        "outputId": "654b42bd-e301-4fcc-d0fe-3b0be6fb5bf5"
      },
      "execution_count": 8,
      "outputs": [
        {
          "output_type": "execute_result",
          "data": {
            "text/plain": [
              "3786"
            ]
          },
          "metadata": {},
          "execution_count": 8
        }
      ]
    },
    {
      "cell_type": "markdown",
      "source": [
        "## Approach"
      ],
      "metadata": {
        "id": "Y2B-GrL9yMPz"
      }
    },
    {
      "cell_type": "code",
      "source": [
        "def get_all_reviewers():\n",
        "  # create a set of all reviewers\n",
        "  all_reviewers = set()   \n",
        "  for pr in final_data:\n",
        "    for r in pr['reviewersId']:\n",
        "      all_reviewers.add(r)\n",
        "  return all_reviewers\n",
        "\n",
        "# all_reviewers = list(get_all_reviewers())"
      ],
      "metadata": {
        "id": "Aa4RJezH7Phm"
      },
      "execution_count": 11,
      "outputs": []
    },
    {
      "cell_type": "code",
      "source": [
        "all_reviewers = ['917', '642', '261', '494', '1549', '543', '97', '233', '995', '1179', '1205', '927', '1689', '335', '67', '693', '2170', '1228', '1192', '706', '34', '1155', '838', '1247', '8', '1816', '2230', '845', '2472', '612', '2458', '518', '191', '4', '5', '6', '1216', '512', '385', '679', '7', '1009', '1699', '970', '688', '24', '236', '490', '357', '100', '964', '1', '209', '1030', '2284', '161', '941', '452', '112', '321', '1456', '360', '616', '1132', '330', '979', '2325', '475', '447', '866', '2', '308', '704', '2035', '70', '2243']\n",
        "\n",
        "print(\"All Reviewers in project:\", all_reviewers)\n",
        "print(\"Number of Reviewers in whole project:\", len(all_reviewers))"
      ],
      "metadata": {
        "colab": {
          "base_uri": "https://localhost:8080/"
        },
        "id": "NMz-t4avM661",
        "outputId": "31adc017-4b8b-41bd-f3ae-ee3ba30e9cdf"
      },
      "execution_count": 9,
      "outputs": [
        {
          "output_type": "stream",
          "name": "stdout",
          "text": [
            "All Reviewers in project: ['917', '642', '261', '494', '1549', '543', '97', '233', '995', '1179', '1205', '927', '1689', '335', '67', '693', '2170', '1228', '1192', '706', '34', '1155', '838', '1247', '8', '1816', '2230', '845', '2472', '612', '2458', '518', '191', '4', '5', '6', '1216', '512', '385', '679', '7', '1009', '1699', '970', '688', '24', '236', '490', '357', '100', '964', '1', '209', '1030', '2284', '161', '941', '452', '112', '321', '1456', '360', '616', '1132', '330', '979', '2325', '475', '447', '866', '2', '308', '704', '2035', '70', '2243']\n",
            "Number of Reviewers in whole project: 76\n"
          ]
        }
      ]
    },
    {
      "cell_type": "code",
      "source": [
        "# problem hyper-parameters\n",
        "lambda_val = 7  # can be changed\n",
        "gama = 0.7"
      ],
      "metadata": {
        "id": "UEZOAOtvDsAE"
      },
      "execution_count": 10,
      "outputs": []
    },
    {
      "cell_type": "markdown",
      "source": [
        "### Time-decay Relationship"
      ],
      "metadata": {
        "id": "QXL5dt0LK4l1"
      }
    },
    {
      "cell_type": "code",
      "source": [
        "def find_PRlist(pull_reqs, reviewerId, cur_time):\n",
        "\n",
        "  # lambda days before the time of our test PR\n",
        "  lambda_ago = cur_time - timedelta(days=lambda_val)\n",
        "\n",
        "  # list of PRs in \"pull_reqs\" that are between time of lambda days ago up to the time of test PR\n",
        "  PS = [pr for pr in pull_reqs if ((lambda_ago < pr['time'] < cur_time) and (reviewerId in pr['reviewersId']))]\n",
        "  # print(\"size of final list:\", len(PS))\n",
        "\n",
        "  # PS will be the list of PRs which submitted by the owner of test PR and reviewed by any reviewer in lambda days ago\n",
        "  return PS "
      ],
      "metadata": {
        "id": "EvuChwJR5HFq"
      },
      "execution_count": 11,
      "outputs": []
    },
    {
      "cell_type": "code",
      "source": [
        "def cal_decayRelation(pull_reqs, cur_time):\n",
        "  \n",
        "  return sum([(1/(cur_time-pr['time']).days) for pr in pull_reqs if ((cur_time-pr['time']).days!=0)])\n",
        "\n",
        "  ######### Alternative #########\n",
        "  # decayRelationship = 0.0\n",
        "  # for pr in pull_reqs:\n",
        "  #   diff_days = (cur_time-pr['time']).days\n",
        "  #   # print(diff_days)\n",
        "  #   if diff_days != 0:\n",
        "  #     decayRelationship += 1/diff_days\n",
        "  # return decayRelationship"
      ],
      "metadata": {
        "id": "R50PWhUTBSG1"
      },
      "execution_count": 12,
      "outputs": []
    },
    {
      "cell_type": "markdown",
      "source": [
        "### Time-decay File Similarity"
      ],
      "metadata": {
        "id": "jSr0bEw8K-GQ"
      }
    },
    {
      "cell_type": "code",
      "source": [
        "def pathDistance(f1, f2):\n",
        "  return len(os.path.commonprefix([f1, f2]).split(\"/\")[0:-1]) / max(len(f1.split(\"/\")), len(f2.split(\"/\")))"
      ],
      "metadata": {
        "id": "UDj0SIRAjz8B"
      },
      "execution_count": 13,
      "outputs": []
    },
    {
      "cell_type": "code",
      "source": [
        "def prDistance(pr1, pr2):\n",
        "  \n",
        "  return sum([pathDistance(f1, f2) for f1 in pr1['filePaths'] for f2 in pr2['filePaths']]) / (len(pr1['filePaths'])*len(pr2['filePaths']))\n",
        "\n",
        "  ######### Alternative #########\n",
        "  # path_dist_sum = 0\n",
        "  # for f1 in pr1['filePaths']:\n",
        "  #   for f2 in pr2['filePaths']:\n",
        "  #    # print(pathDistance(f1, f2))\n",
        "  #     path_dist_sum += pathDistance(f1, f2)\n",
        "  # return path_dist_sum/(len(pr1['filePaths'])*len(pr2['filePaths']))"
      ],
      "metadata": {
        "id": "nHx994sQQDiB"
      },
      "execution_count": 14,
      "outputs": []
    },
    {
      "cell_type": "code",
      "source": [
        "def cal_decayFileSimilarity(pull_reqs, cur_time, test_pr):\n",
        "  \n",
        "  return sum([prDistance(test_pr, pr)*(1/(cur_time-pr['time']).days) for pr in pull_reqs if ((cur_time-pr['time']).days!=0)])\n",
        "\n",
        "  ######### Alternative #########\n",
        "  # decayFileSimilarity = 0.0\n",
        "  # for pr in pull_reqs:\n",
        "  #   diff_days = (cur_time-pr['time']).days\n",
        "  #   # print(diff_days)\n",
        "  #   if diff_days != 0:\n",
        "  #     decayFileSimilarity += (prDistance(test_pr, pr) * (1/diff_days))\n",
        "  # return decayFileSimilarity"
      ],
      "metadata": {
        "id": "H6twprlvPPfJ"
      },
      "execution_count": 15,
      "outputs": []
    },
    {
      "cell_type": "markdown",
      "source": [
        "### Feature Extraction\n",
        "Construct a Pull Request Vector for each PR"
      ],
      "metadata": {
        "id": "7nhnzoQCCmGF"
      }
    },
    {
      "cell_type": "code",
      "source": [
        "# For all PRs we should extract PRvector and save this and reviewer ID into a dataframe for future use\n",
        "\n",
        "vectors = []\n",
        "labels = []\n",
        "\n",
        "for t in range(0, len(final_data)):\n",
        "\n",
        "  prev_pulls = final_data[0:t]\n",
        "  cur_pull = final_data[t]\n",
        "\n",
        "  # list of PRs that submitted by the owner of this PR in trainset\n",
        "  OS = [pr for pr in prev_pulls if (pr['ownerId'] == cur_pull['ownerId'])]\n",
        "\n",
        "  cur_time = cur_pull['time']\n",
        "\n",
        "  # Calculating time-decaying Relationship\n",
        "  PRvector = [cal_decayRelation(find_PRlist(OS, rev, cur_time), cur_time) for rev in all_reviewers]\n",
        "\n",
        "  # Calculating time-decaying File Similarity\n",
        "  PRvector.extend([cal_decayFileSimilarity(find_PRlist(prev_pulls, rev, cur_time), cur_time, cur_pull) for rev in all_reviewers])\n",
        "\n",
        "  if t % 200 == 0:\n",
        "    print(\"PR Vector #\", t, \": \", PRvector)\n",
        "\n",
        "  # Save to dataframe\n",
        "  vectors.append(PRvector)\n",
        "  labels.append(cur_pull['reviewersId'][0])\n",
        "\n",
        "\n",
        "print(\"PR vector size:\", len(all_reviewers), \"is equal to: 2 *\", len(all_reviewers), \"=\", 2*len(all_reviewers))\n",
        "print(len(vectors), len(labels))"
      ],
      "metadata": {
        "colab": {
          "base_uri": "https://localhost:8080/"
        },
        "id": "IJn9wd2cjYsd",
        "outputId": "4c16b32c-d433-4f12-b6d7-e90a29ea15e1"
      },
      "execution_count": 20,
      "outputs": [
        {
          "output_type": "stream",
          "name": "stdout",
          "text": [
            "PR Vector # 0 :  [0, 0, 0, 0, 0, 0, 0, 0, 0, 0, 0, 0, 0, 0, 0, 0, 0, 0, 0, 0, 0, 0, 0, 0, 0, 0, 0, 0, 0, 0, 0, 0, 0, 0, 0, 0, 0, 0, 0, 0, 0, 0, 0, 0, 0, 0, 0, 0, 0, 0, 0, 0, 0, 0, 0, 0, 0, 0, 0, 0, 0, 0, 0, 0, 0, 0, 0, 0, 0, 0, 0, 0, 0, 0, 0, 0, 0, 0, 0, 0, 0, 0, 0, 0, 0, 0, 0, 0, 0, 0, 0, 0, 0, 0, 0, 0, 0, 0, 0, 0, 0, 0, 0, 0, 0, 0, 0, 0, 0, 0, 0, 0, 0, 0, 0, 0, 0, 0, 0, 0, 0, 0, 0, 0, 0, 0, 0, 0, 0, 0, 0, 0, 0, 0, 0, 0, 0, 0, 0, 0, 0, 0, 0, 0, 0, 0, 0, 0, 0, 0, 0, 0]\n",
            "PR Vector # 200 :  [0, 0, 0, 0, 0, 0, 0, 0, 0, 0, 0, 0, 0, 0, 0, 0, 0, 0, 0, 0, 0, 0, 0, 0, 0, 0, 0, 0, 0, 0, 0, 0, 0, 1.0833333333333333, 2.083333333333333, 0, 0, 0, 0, 0, 0, 0, 0, 0, 0, 0, 0, 0, 0, 0, 0, 0, 0, 0, 0, 0, 0, 0, 0, 0, 0, 0, 0, 0, 0, 0, 0, 0, 0, 0, 0, 0, 0, 0, 0, 0, 0, 0, 0, 0, 0, 0, 0, 0, 0, 0, 0, 0, 0, 0, 0, 0, 0, 0, 0, 0, 0, 0, 0, 0, 0, 0, 0, 0, 0, 0, 0, 0, 0, 0.37021909827760885, 1.6275031889411005, 0, 0, 0, 0, 0, 0.0, 0, 0, 0, 0, 0, 0, 0, 0, 0, 0, 0.0, 0, 0, 0, 0, 0, 0, 0, 0, 0, 0, 0, 0, 0, 0, 0, 0, 0, 0, 0.0, 0, 0, 0, 0, 0]\n",
            "PR Vector # 400 :  [0, 0, 0, 0, 0, 0, 0, 0, 0, 0, 0, 0, 0, 0, 0, 0, 0, 0, 0, 0, 0, 0, 0, 0, 0, 0, 0, 0, 0, 0, 0, 0, 0, 0, 0, 0, 0, 0, 0, 0, 0, 0, 0, 0, 0, 0, 0, 0, 0, 0, 0, 0, 0, 0, 0, 0, 0, 0, 0, 0, 0, 0, 0, 0, 0, 0, 0, 0, 0, 0, 0, 0, 0, 0, 0, 0, 0, 0, 0, 0, 0, 0, 0, 0.0, 0, 0, 0, 0, 0, 0, 0, 0, 0, 0, 0, 0, 0, 0, 0, 0, 0, 0, 0, 0, 0, 0, 0, 0, 0, 0.0, 0, 0, 0, 0.0, 0, 0, 0.0, 0, 0, 0, 0, 0, 0, 0, 0, 0, 0.0, 0.0, 0, 0, 0, 0, 0, 0, 0, 0, 0, 0.0, 0, 0, 0.0, 0, 0, 0, 0, 0, 0, 0, 0, 0, 0, 0]\n",
            "PR Vector # 600 :  [0, 0, 0, 0, 0, 0, 0, 0, 0, 0, 0, 0, 0, 0, 0.5, 0, 0, 0, 0, 0, 0, 0, 0, 0, 0, 0, 0, 0, 0, 0, 0, 0, 0, 0, 0, 0, 0, 0, 0, 0, 0, 0, 0, 0, 0, 0, 0, 0, 0, 0, 0, 0, 0, 0, 0, 0, 0, 0, 0, 0, 0, 1.0, 0, 0, 0, 0, 0, 0.5, 0, 0, 0, 0, 0, 0, 0, 0, 0, 0, 0.0, 0, 0, 0, 0, 0.0, 0, 0, 0, 0, 0, 0, 0.2219512195121951, 0, 0, 0.0, 0, 0, 0, 0, 0, 0, 0.0, 0, 0, 0, 0, 0, 0, 0, 0.0, 0, 0.0, 0, 0, 0, 0, 0.0, 0.0, 0.0, 0, 0, 0, 0, 0, 0, 0, 0, 0.0, 0.0, 0.08888888888888892, 0.061111111111111116, 0, 0, 0, 0, 0, 0, 0, 0.4119047619047618, 0, 0.0, 0.0, 0, 0, 0.4000000000000001, 0, 0, 0.0, 0, 0, 0, 0, 0]\n",
            "PR Vector # 800 :  [0, 0, 0, 0, 0, 0, 0, 0, 0, 0, 0, 0, 0, 0, 0, 0, 0, 0, 0, 0, 0, 0, 0, 0, 0, 0, 0, 0, 0, 0, 0, 0, 0, 0, 0, 0, 0, 0, 0, 0, 0, 0, 0, 0, 0, 0, 0, 0, 0, 0, 0, 0, 0, 0, 0, 0, 0, 0, 0, 0, 0, 0, 0, 0, 0, 0, 0, 0, 0, 0, 0, 0, 0, 0, 0, 0, 0, 0, 0, 0, 0, 0, 0, 0.0, 0.0, 0, 0, 0, 0, 0.04605263157894739, 0.11513157894736842, 0.06578947368421052, 0, 0, 0, 0.08114035087719304, 0, 0, 0, 0.4087719298245614, 0.0, 0, 0, 0, 0, 0, 0, 0.05701754385964912, 0, 0.0, 0.0, 0, 0, 0, 0, 0.0, 0.0, 0, 0, 0, 0, 0.08157894736842106, 0, 0.0, 0.5100772765246453, 0, 0.0, 0.0, 0, 0.9918615984405458, 0, 0, 0, 0, 0.0, 0, 0, 0.0, 0.5295194508009157, 0.3024628879892039, 0, 0, 0, 0, 0, 0, 0.0, 0, 0.0, 0, 0, 0]\n",
            "PR Vector # 1000 :  [0, 0, 0, 0, 0, 0, 0, 0, 0, 0, 0, 0, 0, 0, 0, 0, 0, 0, 0, 0, 0, 0, 0, 0, 0, 0, 0, 0, 0, 0, 0, 0, 0, 0, 0, 0, 0, 0, 0, 0, 0, 0, 0, 0, 0, 0, 0, 0, 0, 0, 0, 0, 0, 0, 0, 0, 0, 0, 0, 0, 0, 0, 0, 0, 0, 0, 0, 0, 0, 0, 0, 0, 0, 0, 0, 0, 0, 0.0, 0, 0, 0, 0, 0, 0, 0.0, 0, 0.00036209393751293194, 0, 0, 0.018518518518518517, 0.027777777777777776, 0.0, 0, 0, 0, 0.0, 0, 0, 0, 0.0, 0.0, 0, 0, 0, 0, 0, 0, 0, 0, 0.11160714285714284, 0.18886684303350965, 0.04444444444444445, 0, 0, 0, 0.004115226337448559, 0.03364197530864197, 0, 0, 0, 0, 0, 0, 0, 0.018518518518518517, 0, 0.17222222222222225, 0.0, 0.0, 0.0, 0, 0, 0, 0, 0.21018518518518514, 0, 0, 0.0, 0.0, 0.02962962962962963, 0.2222222222222222, 0, 0, 0.0, 0.0005555555555555556, 0, 0.0, 0, 0.0, 0, 0, 0]\n",
            "PR Vector # 1200 :  [0, 0, 0, 0, 0, 0, 0, 0, 0, 0, 0, 0, 0, 0, 0, 0, 0, 0, 0, 0, 0, 0, 0, 0, 0, 0, 0, 0, 0, 0, 0, 0, 0, 0, 0, 0, 0, 0, 0, 0, 0.16666666666666666, 0, 0, 0, 0, 0, 0, 0, 0, 0, 0, 0, 0, 0, 0, 0, 0, 0, 0, 0, 0, 0.16666666666666666, 0, 0, 0, 0, 0, 0, 0, 0, 0, 0, 0, 0, 0, 0, 0, 0.0, 0.0, 0, 0.0, 0.0, 0, 0, 0.0, 0, 0, 0, 0, 0, 0.03333333333333333, 0.0, 0, 0, 0, 0.0, 0.0, 0, 0, 0.0, 0.0, 0.0, 0, 0, 0, 0, 0, 0, 0, 0.8333333333333333, 0.0, 0.0, 0.0, 0, 0, 0, 0.022222222222222223, 0, 0, 0, 0, 0, 0, 0.0, 0.0, 0, 0.4957895605834134, 0.0, 0.0, 0.0, 0, 0, 0, 0, 0.0, 0, 0, 0.0, 0.0, 0.0, 0, 0, 0, 0.0, 0.0, 0, 0.0, 0.02666666666666667, 0.0, 0, 0, 0]\n",
            "PR Vector # 1400 :  [0, 0, 0, 0, 0, 0, 0, 0, 0, 0, 0, 0, 0, 0, 0, 0, 0, 0, 0, 0, 0, 0, 0, 0, 0, 0, 0, 0, 0, 0, 0, 0, 0, 0, 0, 0, 0, 0, 0, 0, 0, 0, 0, 0, 0, 0, 0, 0, 0, 0, 0, 0, 0, 0, 0, 0, 0, 0, 0, 0, 0, 0, 0, 0, 0, 0, 0, 0, 0, 0, 0, 0, 0, 0, 0, 0, 0, 0.0, 0, 0, 0, 0.0, 0, 0.0, 0, 0.0, 0.0, 0, 0, 0.0, 0, 0, 0, 0, 0, 0, 0, 0.0, 0, 0, 0, 0, 0, 0, 0, 0, 0, 0, 0, 0.0, 0.4555410175766213, 0, 0, 0, 0, 0.0, 0.0, 0, 0, 0, 0.0, 0, 0, 0, 0.0, 0, 0.0, 0, 0.0, 0.0, 0, 0, 0, 0, 0.0, 0, 0, 0.0, 0, 0.0, 0.0, 0, 0, 0, 0.0, 0, 0.0, 0.0, 0, 0, 0, 0]\n",
            "PR Vector # 1600 :  [0, 0, 0, 0, 0, 0, 0, 0, 0, 0, 0, 0, 0, 0, 0, 0, 0, 0, 0, 0, 0, 0, 0, 0, 0, 0, 0, 0, 0, 0, 0, 0, 0, 0, 0, 0, 0, 0, 0, 1.0, 0, 0, 0, 0, 0, 0, 0, 0, 0, 0, 0, 0, 0, 0, 0, 0, 0, 0, 0, 0, 0, 0, 0, 0, 0, 0, 0, 0, 0, 0, 0, 0, 0, 0, 0, 0, 0, 0.0, 0.0, 0, 0, 0, 0, 0, 0, 0, 0.0, 0, 0, 0.0, 0, 0, 0, 0, 0, 0, 0, 0.0, 0, 0.0, 0, 0.0, 0, 0, 0, 0, 0, 0, 0.0, 0.0, 0.0, 0.0, 0, 0, 0.0, 0.1736111111111111, 0.0, 0, 0, 0, 0, 0, 0, 0.0, 0.0, 0.0, 0.0, 0.0, 0, 0, 0, 0, 0, 0, 0.0, 0.0, 0.0, 0.0, 0, 0.0, 0.0, 0, 0, 0, 0.0, 0, 0.0, 0, 0.0, 0, 0, 0]\n",
            "PR Vector # 1800 :  [0, 0, 0, 0, 0, 0, 0, 0, 0, 0, 0, 0, 0, 0, 0, 0, 0, 0, 0, 0, 0, 0, 0, 0.16666666666666666, 0, 0, 0, 0, 0, 0, 0, 0, 0, 0, 0, 0, 0, 0, 0, 0, 0, 0, 0, 0, 0, 0, 0, 0, 0, 0, 0, 0, 0, 0, 0, 0, 0, 0, 0, 0, 0, 0, 0, 0, 0, 0, 0, 0, 0, 0, 0, 0, 0, 0, 0, 0, 0, 0.0, 0.0, 0, 0, 0.0, 0.0, 0.0, 0, 0, 0.0, 0, 0, 0, 0.6447530864197529, 0.36904761904761907, 0, 0, 0, 0.0, 0, 0.0, 0, 0.10773809523809523, 0, 0.0, 0, 0, 0, 0, 0, 0, 0, 0.0, 0.0, 0, 0, 0, 0, 0.40901360544217685, 0.0, 0, 0, 0, 0, 0, 0, 0.0, 0.14484126984126983, 0.2976190476190476, 0.0, 0.0, 0.0, 1.088869992441421, 0, 0, 0, 0, 0.125, 0.4107142857142857, 0, 0.0, 0, 0.5657029478458049, 0, 0.14285714285714285, 0, 0.033333333333333326, 0.0, 0, 0.0, 0, 0, 0, 0, 0]\n",
            "PR Vector # 2000 :  [0, 0, 0, 0, 0, 0, 0, 0, 0, 0, 0, 0, 0, 0, 0, 0, 0, 0, 0, 0, 0, 0, 0, 0, 0, 0, 0, 0, 0, 0, 0, 0, 0, 0, 0, 0, 0, 0, 0, 0, 0, 0, 0, 0, 0, 0, 0, 0, 0, 0, 0, 0, 0, 0, 0, 0, 0, 0, 0, 0, 0, 0, 0, 0, 0, 0, 0, 0, 0, 0, 0, 0, 0, 0, 0, 0, 0, 0, 0.0, 0, 0, 0, 0, 0, 0, 0, 0, 0, 0, 0, 0, 0, 0, 0, 0, 0.0, 0, 0, 0, 0, 0.0, 0.0, 0, 0, 0, 0, 0, 0, 0, 0.0, 1.2305235042735043, 0, 0, 0, 0, 0.0, 0.0, 0, 0, 0, 0, 0.0, 0, 0, 0.0, 0.0, 0, 0.0, 0, 0.0, 0, 0, 0, 0, 0.0, 0, 0, 0.0, 0, 0.0, 0, 0, 0, 0, 0, 0, 0.0, 0, 0, 0, 0, 0]\n",
            "PR Vector # 2200 :  [0, 0, 0, 0, 0, 0, 0, 0, 0, 0, 0, 0, 0, 0, 0, 0, 0, 0, 0, 0, 0, 0, 0, 0, 0, 0, 0, 0, 0, 0, 0, 0, 0, 0, 0, 0, 0, 0, 0, 0, 0, 0, 0, 0, 0, 0, 0, 0, 0, 0, 0, 0, 0, 0, 0, 0, 0, 0, 0, 0, 0, 0, 0, 0, 0, 0, 0, 0, 0, 0, 0, 0, 0, 0, 0, 0, 0, 0, 0, 0, 0, 0.9297619047619045, 0, 0.0, 0, 0, 0, 0, 0, 0, 0.0, 0, 0, 0, 0, 0, 0, 0, 0, 0.0, 0, 0.6666666666666666, 0, 0, 0, 0, 0, 0, 0, 0.0, 0.0, 0, 0, 0, 0, 0.0, 0.0, 0, 0, 0, 0, 0, 0, 0, 0.0, 0.0, 0.0, 0.0, 0, 0.0, 0, 0, 0, 0, 0.0, 0, 0, 0.0, 0, 0.0, 0.0, 0.0, 0, 0, 0.0, 0, 0.0, 0, 0, 0, 0, 0]\n",
            "PR Vector # 2400 :  [0, 0, 0, 0, 0, 0, 0, 0, 0, 0, 0, 0, 0, 0, 0, 0, 0, 0, 0, 0, 0, 0, 0, 0, 0, 0, 0, 0, 0, 0, 0, 0, 0, 0, 0, 0, 0, 0, 0, 0, 0, 0, 0, 0, 0, 0, 0, 0, 0, 0, 0, 0, 0, 0, 0, 0, 0, 0, 0, 0, 0, 0, 0, 0, 0, 0, 0, 0, 0, 0, 0, 0, 0, 0, 0, 0, 0, 0, 0, 0.0, 0, 0.0, 0, 0, 0.0, 0, 0, 0, 0, 0, 0.0, 0, 0, 0, 0, 0.0, 0, 0, 0, 0.0, 0, 0.0, 0.0, 0, 0, 0, 0, 0, 0, 0.0, 0.0, 0, 0.0, 0, 0.0, 0.0, 0.0, 0, 0, 0.0, 0, 0, 0, 0, 0.0, 0, 0.0, 0.0, 0, 0, 0, 0, 0, 0.0, 0.0, 0, 0, 0.0, 0, 0.0, 0.0, 0.0, 0, 0, 0.0, 0, 0.0, 0, 0.0, 0, 0, 0]\n",
            "PR Vector # 2600 :  [0, 0, 0, 0, 0, 0, 0, 0, 0, 0, 0, 0, 0, 0, 0, 0, 0, 0, 0, 0, 0, 0, 0, 0, 0, 0, 0, 0, 0, 0, 0, 0, 0, 0, 0, 0, 0, 0, 0, 0, 0, 0, 0, 0, 0, 0, 0, 0, 0, 0, 0, 0, 0, 0, 0, 0, 0, 0, 0, 0, 0, 0, 0, 0, 0, 0, 0, 0, 0, 0, 0, 0, 0, 0, 0, 0, 0, 0, 0, 0.0, 0, 0.041666666666666664, 0, 0.0, 0.0, 0, 0, 0, 0, 0, 0.0, 0.0, 0, 0, 0, 0, 0, 0, 0, 0.0, 0, 0.0, 0, 0, 0, 0, 0, 0, 0, 0.0, 0, 0.0, 0, 0, 0.0, 0, 0.0, 0, 0, 0, 0, 0, 0, 0, 0.0, 0, 0.0, 0.0, 0, 0, 0.0, 0, 0, 0, 0.0, 0.0, 0, 0, 0, 0.0, 0.0, 0.0, 0.0, 0.0, 0.0, 0, 0, 0, 0, 0, 0, 0]\n",
            "PR Vector # 2800 :  [0, 0, 0, 0, 0, 0, 0, 0, 0, 0, 0, 0, 0, 0, 0, 0, 0, 0, 0, 0, 0, 0, 0, 0, 0, 0, 0, 0, 0, 0, 0, 0, 0, 0, 0, 0, 0, 0, 0, 0.16666666666666666, 0.3333333333333333, 0, 0, 0, 0, 0, 0, 0, 0, 0.16666666666666666, 0, 0, 0, 0, 0, 0, 0, 0, 0.16666666666666666, 0, 0, 0, 0, 0, 0, 0, 0, 0, 0, 0, 0, 0, 0, 0, 0, 0, 0, 0, 0, 0.0, 0, 0, 0, 0.0, 0.0, 0, 0, 0, 0, 0, 0.0, 0, 0, 0, 0, 0, 0, 0.0, 0, 0, 0, 0.0, 0.0, 0, 0, 0, 0, 0, 0, 0, 0, 0.0, 0.0, 0, 0.0, 0.0, 0.0, 0, 0, 0.0, 0, 0, 0, 0, 0.0, 0.0, 0.0, 0.0, 0, 0, 0, 0, 0, 0, 0.0, 0.0, 0, 0.0, 0, 0, 0.0, 0, 0, 0, 0, 0, 0.0, 0, 0, 0, 0, 0]\n",
            "PR Vector # 3000 :  [0, 0, 0, 0, 0, 0, 0, 0, 0.16666666666666666, 0, 0, 0, 0, 0, 0, 0, 0, 0, 0, 0, 0, 0, 0, 0, 0, 0, 0, 0, 0, 0, 0, 0, 0, 0, 0, 0, 0.16666666666666666, 0, 0, 0, 0, 0, 0, 0, 0, 0, 0, 0, 0, 0, 0, 0, 0, 0, 0, 0, 0, 0, 0, 0, 0, 0, 0, 0, 0, 0, 0, 0, 0, 0, 0, 0, 0, 0, 0, 0, 0, 0.0, 0, 0.0, 0, 0.0, 0, 0, 0.0, 0, 0.0, 0, 0, 0, 0.0, 0.0, 0, 0.0, 0, 0, 0, 0, 0, 0.0, 0, 0.0, 0, 0, 0, 0, 0, 0, 0.0, 0.0, 0, 0.0, 0.0, 0, 0.0, 0.0, 0.0, 0, 0, 0, 0, 0, 0, 0.0, 0.0, 0.0, 0.0, 0.0, 0.0, 0, 0, 0, 0, 0, 0, 0, 0, 0, 0, 0.0, 0.0, 0, 0.0, 0, 0, 0, 0.0, 0.0, 0, 0.0, 0, 0]\n",
            "PR Vector # 3200 :  [0, 0, 0, 0, 0, 0, 0, 0, 0, 0, 0, 0, 0, 0, 0, 0, 0, 0, 0, 0, 0, 0, 0, 0, 0, 0, 0, 0, 0, 0, 0, 0, 0, 0, 0, 0, 0, 0, 0, 0, 0, 0, 0, 0, 0, 0, 0, 0, 0, 0, 0, 1.5833333333333333, 0, 0, 0, 0, 0, 0, 0, 0, 0, 0, 0, 0, 0, 0, 0, 0, 0, 0, 1.75, 0, 0, 0, 0, 0, 0, 0, 0, 0.0, 0, 0.0, 0, 0, 0, 0, 0, 0, 0, 0, 0.0, 0, 0.0, 0, 0, 0, 0, 0.0, 0, 0.0, 0, 0.0, 0.0, 0, 0, 0, 0, 0, 0.0, 0, 0, 0.0, 0.0, 0, 0, 0.0, 0.0, 0, 0, 0.0, 0, 0, 0, 0, 0.0, 0, 0.0, 0.43333333333333335, 0, 0, 0, 0, 0, 0.0, 0, 0.0, 0, 0, 0, 0.0, 0.0, 0, 0, 0, 0.0, 0, 0.8, 0.0, 0, 0, 0, 0]\n",
            "PR Vector # 3400 :  [0, 0, 0, 0, 0, 0, 0, 0, 0, 0, 0, 0, 0, 0, 0, 0, 0, 0, 0, 0, 0, 0, 0, 0, 0, 0, 0, 0, 0, 0, 0, 0, 0, 0, 0, 0, 0, 0, 0, 0, 0, 0, 0, 0, 0, 0, 0, 0, 0, 0, 0, 0, 0, 0, 0, 0, 0, 0, 0, 0, 0, 0, 0, 0, 0, 0, 0, 0, 0, 0, 0, 0, 0, 0, 0, 0, 0, 0, 0, 0.0, 0, 0, 0, 0, 0, 0, 0, 0, 0, 0, 0, 0, 0, 0, 0, 0, 0, 0.0, 0, 0.0, 0, 0.0, 0, 0, 0, 0, 0, 0, 0.0, 0, 0, 0.0, 0, 0, 0, 0.0, 0.0, 0, 0, 0.0, 0, 0.0, 0, 0, 0, 0, 1.974074033063775, 0.0, 0, 0, 0, 0, 0, 0, 0, 1.2399999999999998, 0, 0.0, 0, 0.0, 0.09999999999999999, 0, 0, 0, 0, 0, 0.0, 0, 0, 0, 0, 0]\n",
            "PR Vector # 3600 :  [0, 0, 0, 0, 0, 0, 0, 0, 0, 0, 0, 0, 0, 0, 0, 0, 0, 0, 0, 0, 0, 0, 0, 0, 0, 0, 0, 0, 0, 0, 0, 0, 0, 0, 0, 0, 0, 0, 0, 0, 0, 0, 0, 0, 0, 0, 0, 0, 0, 0, 2.1166666666666667, 0, 0, 0, 0, 0, 0, 0, 0, 0, 0, 0, 0, 0, 0, 0, 0, 0, 0, 0, 0, 0, 0, 0, 0, 0, 0, 0.0, 0, 0, 0, 0, 0.0, 0, 0, 0, 0, 0, 0, 0, 0.0, 0, 0, 0, 0, 0, 0, 0, 0.0, 0.0, 0, 0, 0.0, 0, 0.0, 0, 0, 0, 0, 0, 0, 0.0, 0, 0, 0, 0.0, 0.0, 0, 0.0, 0, 0, 0, 0, 0, 0.0, 0, 0.09722222222222221, 0.0, 0, 0, 0, 0, 0, 0, 0, 0, 0, 0, 0, 0.0, 0.0, 0, 0.0, 0.0, 0.0, 0, 0.0, 0, 0, 0, 0, 0]\n",
            "PR vector size: 76 is equal to: 2 * 76 = 152\n",
            "3786 3786\n"
          ]
        }
      ]
    },
    {
      "cell_type": "code",
      "source": [
        "# Create a dataframe of vectors and labels(reviewerIDs)\n",
        "df = pd.DataFrame()\n",
        "df['PRvector'] = vectors\n",
        "df['reviewerID'] = labels\n",
        "df.head()"
      ],
      "metadata": {
        "colab": {
          "base_uri": "https://localhost:8080/",
          "height": 206
        },
        "id": "4wJ1oyKKHPp1",
        "outputId": "e77050b9-0922-4269-d6f1-7ecd0d54dd64"
      },
      "execution_count": 22,
      "outputs": [
        {
          "output_type": "execute_result",
          "data": {
            "text/html": [
              "<div>\n",
              "<style scoped>\n",
              "    .dataframe tbody tr th:only-of-type {\n",
              "        vertical-align: middle;\n",
              "    }\n",
              "\n",
              "    .dataframe tbody tr th {\n",
              "        vertical-align: top;\n",
              "    }\n",
              "\n",
              "    .dataframe thead th {\n",
              "        text-align: right;\n",
              "    }\n",
              "</style>\n",
              "<table border=\"1\" class=\"dataframe\">\n",
              "  <thead>\n",
              "    <tr style=\"text-align: right;\">\n",
              "      <th></th>\n",
              "      <th>PRvector</th>\n",
              "      <th>reviewerID</th>\n",
              "    </tr>\n",
              "  </thead>\n",
              "  <tbody>\n",
              "    <tr>\n",
              "      <th>0</th>\n",
              "      <td>[0, 0, 0, 0, 0, 0, 0, 0, 0, 0, 0, 0, 0, 0, 0, ...</td>\n",
              "      <td>2</td>\n",
              "    </tr>\n",
              "    <tr>\n",
              "      <th>1</th>\n",
              "      <td>[0, 0, 0, 0, 0, 0, 0, 0, 0, 0, 0, 0, 0, 0, 0, ...</td>\n",
              "      <td>1</td>\n",
              "    </tr>\n",
              "    <tr>\n",
              "      <th>2</th>\n",
              "      <td>[0, 0, 0, 0, 0, 0, 0, 0, 0, 0, 0, 0, 0, 0, 0, ...</td>\n",
              "      <td>1</td>\n",
              "    </tr>\n",
              "    <tr>\n",
              "      <th>3</th>\n",
              "      <td>[0, 0, 0, 0, 0, 0, 0, 0, 0, 0, 0, 0, 0, 0, 0, ...</td>\n",
              "      <td>1</td>\n",
              "    </tr>\n",
              "    <tr>\n",
              "      <th>4</th>\n",
              "      <td>[0, 0, 0, 0, 0, 0, 0, 0, 0, 0, 0, 0, 0, 0, 0, ...</td>\n",
              "      <td>1</td>\n",
              "    </tr>\n",
              "  </tbody>\n",
              "</table>\n",
              "</div>"
            ],
            "text/plain": [
              "                                            PRvector reviewerID\n",
              "0  [0, 0, 0, 0, 0, 0, 0, 0, 0, 0, 0, 0, 0, 0, 0, ...          2\n",
              "1  [0, 0, 0, 0, 0, 0, 0, 0, 0, 0, 0, 0, 0, 0, 0, ...          1\n",
              "2  [0, 0, 0, 0, 0, 0, 0, 0, 0, 0, 0, 0, 0, 0, 0, ...          1\n",
              "3  [0, 0, 0, 0, 0, 0, 0, 0, 0, 0, 0, 0, 0, 0, 0, ...          1\n",
              "4  [0, 0, 0, 0, 0, 0, 0, 0, 0, 0, 0, 0, 0, 0, 0, ...          1"
            ]
          },
          "metadata": {},
          "execution_count": 22
        }
      ]
    },
    {
      "cell_type": "code",
      "source": [
        "# Save dataframe as csv file\n",
        "df.to_csv('dataframe.csv')"
      ],
      "metadata": {
        "id": "M3JPsCBCNm5t"
      },
      "execution_count": 23,
      "outputs": []
    },
    {
      "cell_type": "code",
      "source": [
        "# Save dataframe into Drive\n",
        "src = \"./dataframe.csv\"\n",
        "dst = \"/content/drive/MyDrive/Colab Notebooks/My Project/FeatureVectors.csv\"\n",
        "shutil.move(src, dst)"
      ],
      "metadata": {
        "colab": {
          "base_uri": "https://localhost:8080/",
          "height": 42
        },
        "id": "4_ObsKGAOuFe",
        "outputId": "57671777-e952-4fec-b633-395eb63225e5"
      },
      "execution_count": 19,
      "outputs": [
        {
          "output_type": "execute_result",
          "data": {
            "application/vnd.google.colaboratory.intrinsic+json": {
              "type": "string"
            },
            "text/plain": [
              "'/content/drive/MyDrive/Colab Notebooks/My Project/FeatureVectors.csv'"
            ]
          },
          "metadata": {},
          "execution_count": 19
        }
      ]
    },
    {
      "cell_type": "markdown",
      "source": [
        "### Main"
      ],
      "metadata": {
        "id": "A89nchnfsRk4"
      }
    },
    {
      "cell_type": "code",
      "source": [
        "df = pd.read_csv('/content/drive/MyDrive/Colab Notebooks/My Project/FeatureVectors.csv')\n",
        "df.drop('Unnamed: 0', inplace=True, axis=1)\n",
        "df.head()"
      ],
      "metadata": {
        "colab": {
          "base_uri": "https://localhost:8080/",
          "height": 206
        },
        "id": "OPdEzCsCS5hO",
        "outputId": "1bf52f74-54b1-4905-ebfd-21550aed3e70"
      },
      "execution_count": 37,
      "outputs": [
        {
          "output_type": "execute_result",
          "data": {
            "text/html": [
              "<div>\n",
              "<style scoped>\n",
              "    .dataframe tbody tr th:only-of-type {\n",
              "        vertical-align: middle;\n",
              "    }\n",
              "\n",
              "    .dataframe tbody tr th {\n",
              "        vertical-align: top;\n",
              "    }\n",
              "\n",
              "    .dataframe thead th {\n",
              "        text-align: right;\n",
              "    }\n",
              "</style>\n",
              "<table border=\"1\" class=\"dataframe\">\n",
              "  <thead>\n",
              "    <tr style=\"text-align: right;\">\n",
              "      <th></th>\n",
              "      <th>PRvector</th>\n",
              "      <th>reviewerID</th>\n",
              "    </tr>\n",
              "  </thead>\n",
              "  <tbody>\n",
              "    <tr>\n",
              "      <th>0</th>\n",
              "      <td>[0, 0, 0, 0, 0, 0, 0, 0, 0, 0, 0, 0, 0, 0, 0, ...</td>\n",
              "      <td>2</td>\n",
              "    </tr>\n",
              "    <tr>\n",
              "      <th>1</th>\n",
              "      <td>[0, 0, 0, 0, 0, 0, 0, 0, 0, 0, 0, 0, 0, 0, 0, ...</td>\n",
              "      <td>1</td>\n",
              "    </tr>\n",
              "    <tr>\n",
              "      <th>2</th>\n",
              "      <td>[0, 0, 0, 0, 0, 0, 0, 0, 0, 0, 0, 0, 0, 0, 0, ...</td>\n",
              "      <td>1</td>\n",
              "    </tr>\n",
              "    <tr>\n",
              "      <th>3</th>\n",
              "      <td>[0, 0, 0, 0, 0, 0, 0, 0, 0, 0, 0, 0, 0, 0, 0, ...</td>\n",
              "      <td>1</td>\n",
              "    </tr>\n",
              "    <tr>\n",
              "      <th>4</th>\n",
              "      <td>[0, 0, 0, 0, 0, 0, 0, 0, 0, 0, 0, 0, 0, 0, 0, ...</td>\n",
              "      <td>1</td>\n",
              "    </tr>\n",
              "  </tbody>\n",
              "</table>\n",
              "</div>"
            ],
            "text/plain": [
              "                                            PRvector  reviewerID\n",
              "0  [0, 0, 0, 0, 0, 0, 0, 0, 0, 0, 0, 0, 0, 0, 0, ...           2\n",
              "1  [0, 0, 0, 0, 0, 0, 0, 0, 0, 0, 0, 0, 0, 0, 0, ...           1\n",
              "2  [0, 0, 0, 0, 0, 0, 0, 0, 0, 0, 0, 0, 0, 0, 0, ...           1\n",
              "3  [0, 0, 0, 0, 0, 0, 0, 0, 0, 0, 0, 0, 0, 0, 0, ...           1\n",
              "4  [0, 0, 0, 0, 0, 0, 0, 0, 0, 0, 0, 0, 0, 0, 0, ...           1"
            ]
          },
          "metadata": {},
          "execution_count": 37
        }
      ]
    },
    {
      "cell_type": "code",
      "source": [
        "# PRs created in the same month should be in the same group\n",
        "groups = []\n",
        "\n",
        "start_year = final_data[0]['time'].year\n",
        "start_month = final_data[0]['time'].month\n",
        "group = []\n",
        "\n",
        "for pr in final_data:\n",
        "  if (pr['time'].year == start_year) and (pr['time'].month == start_month):\n",
        "    group.append(pr)\n",
        "    if(pr == final_data[-1]):\n",
        "      groups.append(group)\n",
        "  else:\n",
        "    groups.append(group)\n",
        "    group = []\n",
        "    start_year = pr['time'].year\n",
        "    start_month = pr['time'].month\n",
        "    group.append(pr)\n",
        "\n",
        "len(groups)"
      ],
      "metadata": {
        "colab": {
          "base_uri": "https://localhost:8080/"
        },
        "id": "Xfa5inQ646OG",
        "outputId": "1a5d423f-c8a6-4331-cf20-5f802023e0d3"
      },
      "execution_count": 149,
      "outputs": [
        {
          "output_type": "execute_result",
          "data": {
            "text/plain": [
              "11"
            ]
          },
          "metadata": {},
          "execution_count": 149
        }
      ]
    },
    {
      "cell_type": "code",
      "source": [
        "rounds_num = len(groups)-1\n",
        "\n",
        "for i in range(0, rounds_num):\n",
        "\n",
        "  # split train/test sets\n",
        "  train = groups[0]\n",
        "  for j in range(1, i+1):\n",
        "    train.extend(groups[j])\n",
        "  \n",
        "  test = groups[i+1]\n",
        "\n"
      ],
      "metadata": {
        "id": "RRzNozdf_Mn2"
      },
      "execution_count": null,
      "outputs": []
    },
    {
      "cell_type": "markdown",
      "source": [
        "### Random Forest Classifier"
      ],
      "metadata": {
        "id": "qygMR5my_Yry"
      }
    },
    {
      "cell_type": "code",
      "source": [
        "clf = RandomForestClassifier(n_estimators=12, max_depth=None, random_state=0)\n",
        "# scores = cross_val_score(clf, X, y)\n",
        "# print(scores.mean())\n",
        "\n",
        "classifier = clf.fit(X, y)\n",
        "predictions = classifier.predict_proba(np.reshape(test_PRvector, (1, -1)))\n",
        "print(predictions)"
      ],
      "metadata": {
        "colab": {
          "base_uri": "https://localhost:8080/"
        },
        "id": "pdzeraEciyDO",
        "outputId": "13eecda5-a85f-42eb-8fb6-4841d407d1b7"
      },
      "execution_count": 106,
      "outputs": [
        {
          "output_type": "stream",
          "name": "stdout",
          "text": [
            "[[0.58333333 0.         0.         0.         0.         0.\n",
            "  0.         0.         0.         0.         0.         0.\n",
            "  0.         0.         0.         0.         0.         0.\n",
            "  0.         0.         0.16666667 0.         0.         0.\n",
            "  0.         0.         0.         0.25       0.         0.\n",
            "  0.         0.         0.         0.         0.         0.\n",
            "  0.         0.         0.         0.         0.         0.\n",
            "  0.         0.         0.         0.         0.         0.\n",
            "  0.         0.         0.         0.         0.         0.\n",
            "  0.         0.         0.         0.         0.         0.\n",
            "  0.         0.         0.         0.         0.         0.\n",
            "  0.         0.         0.         0.         0.         0.\n",
            "  0.         0.         0.         0.        ]]\n"
          ]
        },
        {
          "output_type": "stream",
          "name": "stderr",
          "text": [
            "/usr/local/lib/python3.7/dist-packages/ipykernel_launcher.py:5: DataConversionWarning: A column-vector y was passed when a 1d array was expected. Please change the shape of y to (n_samples,), for example using ravel().\n",
            "  \"\"\"\n"
          ]
        }
      ]
    },
    {
      "cell_type": "code",
      "source": [
        "[p for p in range(0, len(predictions[0])) if (predictions[0][p] != 0)]"
      ],
      "metadata": {
        "colab": {
          "base_uri": "https://localhost:8080/"
        },
        "id": "8E1Ika9RokI8",
        "outputId": "a028fa36-d2c6-4e86-d166-96f83aad1bba"
      },
      "execution_count": 91,
      "outputs": [
        {
          "output_type": "execute_result",
          "data": {
            "text/plain": [
              "[0, 20, 27]"
            ]
          },
          "metadata": {},
          "execution_count": 91
        }
      ]
    },
    {
      "cell_type": "code",
      "source": [
        "[p for p in range(0, len(test_PRvector)) if (test_PRvector[p] != 0)]"
      ],
      "metadata": {
        "colab": {
          "base_uri": "https://localhost:8080/"
        },
        "id": "QjfBqk7Bpu2k",
        "outputId": "6ede14b9-b4d4-4346-ddee-0ef1241c26ab"
      },
      "execution_count": 112,
      "outputs": [
        {
          "output_type": "execute_result",
          "data": {
            "text/plain": [
              "[0, 15, 33, 91, 109, 126]"
            ]
          },
          "metadata": {},
          "execution_count": 112
        }
      ]
    },
    {
      "cell_type": "code",
      "source": [
        "all_reviewers.index('1')"
      ],
      "metadata": {
        "colab": {
          "base_uri": "https://localhost:8080/"
        },
        "id": "jq8dqsGcpYLT",
        "outputId": "3aa6d0ff-1f07-4751-9fdb-72bfbb813dc6"
      },
      "execution_count": 113,
      "outputs": [
        {
          "output_type": "execute_result",
          "data": {
            "text/plain": [
              "33"
            ]
          },
          "metadata": {},
          "execution_count": 113
        }
      ]
    },
    {
      "cell_type": "markdown",
      "source": [
        "### Naive Bayes Classifier"
      ],
      "metadata": {
        "id": "HtaUAatE_eKF"
      }
    },
    {
      "cell_type": "code",
      "source": [
        "model = GaussianNB()\n",
        "classifier = model.fit(X, y)\n",
        "yprob = classifier.predict_proba(np.reshape(test_PRvector, (1, -1)))\n",
        "print(yprob)"
      ],
      "metadata": {
        "colab": {
          "base_uri": "https://localhost:8080/"
        },
        "id": "9_GXNKSjw_zL",
        "outputId": "f1199802-527a-4d21-a19f-302f1c9da76c"
      },
      "execution_count": 111,
      "outputs": [
        {
          "output_type": "stream",
          "name": "stdout",
          "text": [
            "[[5.07134318e-187 0.00000000e+000 0.00000000e+000 0.00000000e+000\n",
            "  0.00000000e+000 0.00000000e+000 0.00000000e+000 0.00000000e+000\n",
            "  0.00000000e+000 0.00000000e+000 0.00000000e+000 0.00000000e+000\n",
            "  0.00000000e+000 0.00000000e+000 0.00000000e+000 0.00000000e+000\n",
            "  0.00000000e+000 0.00000000e+000 0.00000000e+000 0.00000000e+000\n",
            "  3.77973295e-189 0.00000000e+000 0.00000000e+000 0.00000000e+000\n",
            "  0.00000000e+000 0.00000000e+000 0.00000000e+000 1.00000000e+000\n",
            "  0.00000000e+000 0.00000000e+000 0.00000000e+000 0.00000000e+000\n",
            "  0.00000000e+000 0.00000000e+000 0.00000000e+000 0.00000000e+000\n",
            "  0.00000000e+000 0.00000000e+000 0.00000000e+000 0.00000000e+000\n",
            "  0.00000000e+000 0.00000000e+000 0.00000000e+000 0.00000000e+000\n",
            "  0.00000000e+000 0.00000000e+000 0.00000000e+000 0.00000000e+000\n",
            "  0.00000000e+000 0.00000000e+000 0.00000000e+000 0.00000000e+000\n",
            "  0.00000000e+000 0.00000000e+000 0.00000000e+000 0.00000000e+000\n",
            "  0.00000000e+000 0.00000000e+000 0.00000000e+000 0.00000000e+000\n",
            "  0.00000000e+000 0.00000000e+000 0.00000000e+000 0.00000000e+000\n",
            "  0.00000000e+000 0.00000000e+000 0.00000000e+000 0.00000000e+000\n",
            "  0.00000000e+000 0.00000000e+000 0.00000000e+000 0.00000000e+000\n",
            "  0.00000000e+000 0.00000000e+000 0.00000000e+000 0.00000000e+000]]\n"
          ]
        },
        {
          "output_type": "stream",
          "name": "stderr",
          "text": [
            "/usr/local/lib/python3.7/dist-packages/sklearn/utils/validation.py:985: DataConversionWarning: A column-vector y was passed when a 1d array was expected. Please change the shape of y to (n_samples, ), for example using ravel().\n",
            "  y = column_or_1d(y, warn=True)\n"
          ]
        }
      ]
    },
    {
      "cell_type": "code",
      "source": [
        "[p for p in range(0, len(yprob[0])) if (yprob[0][p] != 0)]"
      ],
      "metadata": {
        "colab": {
          "base_uri": "https://localhost:8080/"
        },
        "id": "Yy3Ymp7z3Sz9",
        "outputId": "9be7c555-58c2-4f2a-a5ab-dfc4746bd7a8"
      },
      "execution_count": 108,
      "outputs": [
        {
          "output_type": "execute_result",
          "data": {
            "text/plain": [
              "[0, 20, 27]"
            ]
          },
          "metadata": {},
          "execution_count": 108
        }
      ]
    },
    {
      "cell_type": "markdown",
      "source": [
        "### TRFPre Composer"
      ],
      "metadata": {
        "id": "LcJi7tpd_l_b"
      }
    }
  ]
}